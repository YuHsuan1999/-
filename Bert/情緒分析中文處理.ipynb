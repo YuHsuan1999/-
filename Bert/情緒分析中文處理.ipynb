{
  "cells": [
    {
      "cell_type": "code",
      "execution_count": 1,
      "metadata": {
        "colab": {
          "base_uri": "https://localhost:8080/"
        },
        "id": "KO63Ln0HiQkU",
        "outputId": "6bb5efa4-a028-412d-e865-5c0ffe7b906c"
      },
      "outputs": [],
      "source": [
        "import os\n",
        "# import zipfile\n",
        "\n",
        "# def zip_list(file_path):\n",
        "#     zf = zipfile.ZipFile('sentiment.zip', 'r')\n",
        "#     print(zf.namelist())\n",
        "#     zf.extractall()\n",
        "\n",
        "# if __name__ == '__main__':\n",
        "#     file_path = 'sentiment.zip'\n",
        "#     zip_list(file_path)"
      ]
    },
    {
      "cell_type": "code",
      "execution_count": 2,
      "metadata": {
        "id": "AXmy4OcvpZSI"
      },
      "outputs": [],
      "source": [
        "import pandas as pd"
      ]
    },
    {
      "cell_type": "code",
      "execution_count": 3,
      "metadata": {
        "colab": {
          "base_uri": "https://localhost:8080/",
          "height": 410
        },
        "id": "__UruN5-pat5",
        "outputId": "343eb407-d6e6-45ea-c84e-21ab6d23a3b2"
      },
      "outputs": [
        {
          "data": {
            "text/html": [
              "<div>\n",
              "<style scoped>\n",
              "    .dataframe tbody tr th:only-of-type {\n",
              "        vertical-align: middle;\n",
              "    }\n",
              "\n",
              "    .dataframe tbody tr th {\n",
              "        vertical-align: top;\n",
              "    }\n",
              "\n",
              "    .dataframe thead th {\n",
              "        text-align: right;\n",
              "    }\n",
              "</style>\n",
              "<table border=\"1\" class=\"dataframe\">\n",
              "  <thead>\n",
              "    <tr style=\"text-align: right;\">\n",
              "      <th></th>\n",
              "      <th>0</th>\n",
              "    </tr>\n",
              "  </thead>\n",
              "  <tbody>\n",
              "    <tr>\n",
              "      <th>1</th>\n",
              "      <td>贝贝好爱干净 每天出门都要洗澡 还喜欢喝蒙牛 不喜欢蹲地方 喜欢坐凳子上还喜欢和我坐在一起~</td>\n",
              "    </tr>\n",
              "    <tr>\n",
              "      <th>0</th>\n",
              "      <td>感觉好像是文科生看一本《高等数学》的教材一样，流水账一般，只是背景很好罢了，选择在这样一个竞...</td>\n",
              "    </tr>\n",
              "    <tr>\n",
              "      <th>1</th>\n",
              "      <td>很安静,隔音设施不错.服务员态度很好,下次还会选这里</td>\n",
              "    </tr>\n",
              "    <tr>\n",
              "      <th>1</th>\n",
              "      <td>1 感觉外观还可以，符合我的要求，体积虽不算小，但比它大的翻盖手机还是很多的。2 比一张IC...</td>\n",
              "    </tr>\n",
              "    <tr>\n",
              "      <th>1</th>\n",
              "      <td>收到后，包装完好。笔记本封条完好。 性价比很高，DVD驱动盘包含VISTA所有必备的驱动，方便。</td>\n",
              "    </tr>\n",
              "    <tr>\n",
              "      <th>...</th>\n",
              "      <td>...</td>\n",
              "    </tr>\n",
              "    <tr>\n",
              "      <th>0</th>\n",
              "      <td>我上当当的新用户，第一次在当当买书，可是14号都已经发货，到现在都没有收到，实在是大失所望，...</td>\n",
              "    </tr>\n",
              "    <tr>\n",
              "      <th>1</th>\n",
              "      <td>该酒店内的桑那中心的从业人员，用欺骗的方式，赚取客人的钱。</td>\n",
              "    </tr>\n",
              "    <tr>\n",
              "      <th>1</th>\n",
              "      <td>屏幕大了0.1英寸（K750/W800为1.8英寸）；容量大了2GB（W800最大支持2GB...</td>\n",
              "    </tr>\n",
              "    <tr>\n",
              "      <th>1</th>\n",
              "      <td>大了点，比较适合威猛男士，红色触控多媒体键看上去很漂亮，装了很多东西也没觉得明显发热，这点也不错</td>\n",
              "    </tr>\n",
              "    <tr>\n",
              "      <th>0</th>\n",
              "      <td>哎！ 不会是蒙牛干的吧 严惩真凶！</td>\n",
              "    </tr>\n",
              "  </tbody>\n",
              "</table>\n",
              "<p>16883 rows × 1 columns</p>\n",
              "</div>"
            ],
            "text/plain": [
              "                                                    0\n",
              "1      贝贝好爱干净 每天出门都要洗澡 还喜欢喝蒙牛 不喜欢蹲地方 喜欢坐凳子上还喜欢和我坐在一起~\n",
              "0   感觉好像是文科生看一本《高等数学》的教材一样，流水账一般，只是背景很好罢了，选择在这样一个竞...\n",
              "1                          很安静,隔音设施不错.服务员态度很好,下次还会选这里\n",
              "1   1 感觉外观还可以，符合我的要求，体积虽不算小，但比它大的翻盖手机还是很多的。2 比一张IC...\n",
              "1    收到后，包装完好。笔记本封条完好。 性价比很高，DVD驱动盘包含VISTA所有必备的驱动，方便。\n",
              "..                                                ...\n",
              "0   我上当当的新用户，第一次在当当买书，可是14号都已经发货，到现在都没有收到，实在是大失所望，...\n",
              "1                       该酒店内的桑那中心的从业人员，用欺骗的方式，赚取客人的钱。\n",
              "1   屏幕大了0.1英寸（K750/W800为1.8英寸）；容量大了2GB（W800最大支持2GB...\n",
              "1    大了点，比较适合威猛男士，红色触控多媒体键看上去很漂亮，装了很多东西也没觉得明显发热，这点也不错\n",
              "0                                   哎！ 不会是蒙牛干的吧 严惩真凶！\n",
              "\n",
              "[16883 rows x 1 columns]"
            ]
          },
          "execution_count": 3,
          "metadata": {},
          "output_type": "execute_result"
        }
      ],
      "source": [
        "train = open('sentiment/sentiment.train.data', 'r' ,encoding='utf-8')\n",
        "X_train_text = []\n",
        "y_train_label = []\n",
        "\n",
        "while(True):\n",
        "  r = train.readline()\n",
        "  if(r == ''):\n",
        "    break\n",
        "  X_train_text.append(r[0:len(r)-3])\n",
        "  y_train_label.append(int(r[len(r)-2]))\n",
        "\n",
        "train_df = pd.DataFrame(X_train_text, y_train_label)\n",
        "train_df"
      ]
    },
    {
      "cell_type": "markdown",
      "metadata": {
        "id": "WHf9gkhLptNN"
      },
      "source": [
        "---\n",
        "測試資料集"
      ]
    },
    {
      "cell_type": "code",
      "execution_count": 4,
      "metadata": {
        "colab": {
          "base_uri": "https://localhost:8080/",
          "height": 410
        },
        "id": "xPzRLVk0lXqr",
        "outputId": "c5c69e59-21b1-4a31-cbb8-a409e7b7c22c"
      },
      "outputs": [
        {
          "data": {
            "text/html": [
              "<div>\n",
              "<style scoped>\n",
              "    .dataframe tbody tr th:only-of-type {\n",
              "        vertical-align: middle;\n",
              "    }\n",
              "\n",
              "    .dataframe tbody tr th {\n",
              "        vertical-align: top;\n",
              "    }\n",
              "\n",
              "    .dataframe thead th {\n",
              "        text-align: right;\n",
              "    }\n",
              "</style>\n",
              "<table border=\"1\" class=\"dataframe\">\n",
              "  <thead>\n",
              "    <tr style=\"text-align: right;\">\n",
              "      <th></th>\n",
              "      <th>0</th>\n",
              "    </tr>\n",
              "  </thead>\n",
              "  <tbody>\n",
              "    <tr>\n",
              "      <th>0</th>\n",
              "      <td>换书要求客户自己邮寄到北京，光邮费就相当于书费，还有必要换吗，新买一本不更好吗，你们这样的服...</td>\n",
              "    </tr>\n",
              "    <tr>\n",
              "      <th>1</th>\n",
              "      <td>之前一直知道国学之重要，也看了不少书，但是自从开始读这本书之后，才深深地感觉到其实国学是如此...</td>\n",
              "    </tr>\n",
              "    <tr>\n",
              "      <th>0</th>\n",
              "      <td>电池时间短，无线网卡上不去，模板是10寸的，不是8.9的，没有想象中小。</td>\n",
              "    </tr>\n",
              "    <tr>\n",
              "      <th>0</th>\n",
              "      <td>史上最臭最恶劣最令人无法忍受喇叭的笔记本！越听越想砸！竟然还不如我的索尼爱立信G700C手机...</td>\n",
              "    </tr>\n",
              "    <tr>\n",
              "      <th>1</th>\n",
              "      <td>科学家们的口述史不仅说的是各自领域的自然科学史，实际上也是一部社会发展史、人文历史。比如本书...</td>\n",
              "    </tr>\n",
              "    <tr>\n",
              "      <th>...</th>\n",
              "      <td>...</td>\n",
              "    </tr>\n",
              "    <tr>\n",
              "      <th>1</th>\n",
              "      <td>经典蒙牛，口味始终如一！不是不想说话，而是有很多话讲不出来，放在心里会安全点。</td>\n",
              "    </tr>\n",
              "    <tr>\n",
              "      <th>1</th>\n",
              "      <td>优点：1：200万像素摄象头，有微距可调，全屏取景。光线充足时，拍照效果一流，用最大分辨率拍...</td>\n",
              "    </tr>\n",
              "    <tr>\n",
              "      <th>1</th>\n",
              "      <td>速度还可以很人性的设计，买来了先做了个系统备份盘如果系统有问题随时都能自己安装正版vista</td>\n",
              "    </tr>\n",
              "    <tr>\n",
              "      <th>0</th>\n",
              "      <td>我是11月29日入住,12月1日离店的,由于我本人不慎将新买的皮鞋和一个仪器上的配件忘记在宾...</td>\n",
              "    </tr>\n",
              "    <tr>\n",
              "      <th>0</th>\n",
              "      <td>1、货源紧张，6月19号下的单，27号才到2、自带的Vista运行实在太慢了，自己又加了1G...</td>\n",
              "    </tr>\n",
              "  </tbody>\n",
              "</table>\n",
              "<p>2111 rows × 1 columns</p>\n",
              "</div>"
            ],
            "text/plain": [
              "                                                    0\n",
              "0   换书要求客户自己邮寄到北京，光邮费就相当于书费，还有必要换吗，新买一本不更好吗，你们这样的服...\n",
              "1   之前一直知道国学之重要，也看了不少书，但是自从开始读这本书之后，才深深地感觉到其实国学是如此...\n",
              "0                电池时间短，无线网卡上不去，模板是10寸的，不是8.9的，没有想象中小。\n",
              "0   史上最臭最恶劣最令人无法忍受喇叭的笔记本！越听越想砸！竟然还不如我的索尼爱立信G700C手机...\n",
              "1   科学家们的口述史不仅说的是各自领域的自然科学史，实际上也是一部社会发展史、人文历史。比如本书...\n",
              "..                                                ...\n",
              "1             经典蒙牛，口味始终如一！不是不想说话，而是有很多话讲不出来，放在心里会安全点。\n",
              "1   优点：1：200万像素摄象头，有微距可调，全屏取景。光线充足时，拍照效果一流，用最大分辨率拍...\n",
              "1      速度还可以很人性的设计，买来了先做了个系统备份盘如果系统有问题随时都能自己安装正版vista\n",
              "0   我是11月29日入住,12月1日离店的,由于我本人不慎将新买的皮鞋和一个仪器上的配件忘记在宾...\n",
              "0   1、货源紧张，6月19号下的单，27号才到2、自带的Vista运行实在太慢了，自己又加了1G...\n",
              "\n",
              "[2111 rows x 1 columns]"
            ]
          },
          "execution_count": 4,
          "metadata": {},
          "output_type": "execute_result"
        }
      ],
      "source": [
        "test = open('sentiment/sentiment.test.data', 'r' ,encoding='utf-8')\n",
        "X_test_text = []\n",
        "y_test_label = []\n",
        "\n",
        "while(True):\n",
        "  r = test.readline()\n",
        "  if(r == ''):\n",
        "    break\n",
        "  X_test_text.append(r[0:len(r)-3])\n",
        "  y_test_label.append(int(r[len(r)-2]))\n",
        "\n",
        "test_df = pd.DataFrame(X_test_text, y_test_label)\n",
        "test_df"
      ]
    },
    {
      "cell_type": "markdown",
      "metadata": {
        "id": "qWuZJqyqp6MW"
      },
      "source": [
        "---\n",
        "有效資料集"
      ]
    },
    {
      "cell_type": "code",
      "execution_count": 5,
      "metadata": {
        "colab": {
          "base_uri": "https://localhost:8080/",
          "height": 410
        },
        "id": "dC4GyLJpon1y",
        "outputId": "8be5fad7-806d-45d4-ca3b-b069a7340918"
      },
      "outputs": [
        {
          "data": {
            "text/html": [
              "<div>\n",
              "<style scoped>\n",
              "    .dataframe tbody tr th:only-of-type {\n",
              "        vertical-align: middle;\n",
              "    }\n",
              "\n",
              "    .dataframe tbody tr th {\n",
              "        vertical-align: top;\n",
              "    }\n",
              "\n",
              "    .dataframe thead th {\n",
              "        text-align: right;\n",
              "    }\n",
              "</style>\n",
              "<table border=\"1\" class=\"dataframe\">\n",
              "  <thead>\n",
              "    <tr style=\"text-align: right;\">\n",
              "      <th></th>\n",
              "      <th>0</th>\n",
              "    </tr>\n",
              "  </thead>\n",
              "  <tbody>\n",
              "    <tr>\n",
              "      <th>1</th>\n",
              "      <td>我是在看了大家的评论后买的这套书。因为我儿子最喜欢看书，所以家里买了很多书，尤其是大家评论不...</td>\n",
              "    </tr>\n",
              "    <tr>\n",
              "      <th>0</th>\n",
              "      <td>图太乱了 有点看不懂重点  讲故事的时候很难让孩子集中 图画和字能够规则一些更好些</td>\n",
              "    </tr>\n",
              "    <tr>\n",
              "      <th>0</th>\n",
              "      <td>有点重，有点厚；屏幕外框宽了点，要是窄点就好了；触摸板手感不行。LINUX系统用起来非常不习惯。</td>\n",
              "    </tr>\n",
              "    <tr>\n",
              "      <th>0</th>\n",
              "      <td>房间有味道，服务实在不敢恭维，预订的房间给卖掉，好在给免费升级，还算不错。就是实在可气的是退...</td>\n",
              "    </tr>\n",
              "    <tr>\n",
              "      <th>0</th>\n",
              "      <td>因为是16:9的物理分辨率,整体看起来屏幕比较矮,看高清不错但是玩游戏可能不太习惯需要适应....</td>\n",
              "    </tr>\n",
              "    <tr>\n",
              "      <th>...</th>\n",
              "      <td>...</td>\n",
              "    </tr>\n",
              "    <tr>\n",
              "      <th>0</th>\n",
              "      <td>《不一样的卡梅拉》的确不一样！家里那么多图书，儿子偏偏对它情有独钟。没事就把它从书架上拿下来...</td>\n",
              "    </tr>\n",
              "    <tr>\n",
              "      <th>1</th>\n",
              "      <td>这本书紧接《春秋大义》，作者一以贯之地以浅显的语言，告诉我们古代的智力英雄们如何解读春秋，这...</td>\n",
              "    </tr>\n",
              "    <tr>\n",
              "      <th>1</th>\n",
              "      <td>真想把一套看完之后再写评论，不过“当当真诚邀请”，呵呵其实想想这本书确实也值得写，刚看的时候...</td>\n",
              "    </tr>\n",
              "    <tr>\n",
              "      <th>1</th>\n",
              "      <td>暮光之城开始看的时候觉得并没有其他魔幻小说的文笔写的好，可能是翻译的原因吧，总是觉得在周转方...</td>\n",
              "    </tr>\n",
              "    <tr>\n",
              "      <th>0</th>\n",
              "      <td>这本书不象宣传里说得那么好，买到家以后，翻了翻就没有兴趣了。本来是想买回来，让小孩学习英语的...</td>\n",
              "    </tr>\n",
              "  </tbody>\n",
              "</table>\n",
              "<p>2111 rows × 1 columns</p>\n",
              "</div>"
            ],
            "text/plain": [
              "                                                    0\n",
              "1   我是在看了大家的评论后买的这套书。因为我儿子最喜欢看书，所以家里买了很多书，尤其是大家评论不...\n",
              "0           图太乱了 有点看不懂重点  讲故事的时候很难让孩子集中 图画和字能够规则一些更好些\n",
              "0    有点重，有点厚；屏幕外框宽了点，要是窄点就好了；触摸板手感不行。LINUX系统用起来非常不习惯。\n",
              "0   房间有味道，服务实在不敢恭维，预订的房间给卖掉，好在给免费升级，还算不错。就是实在可气的是退...\n",
              "0   因为是16:9的物理分辨率,整体看起来屏幕比较矮,看高清不错但是玩游戏可能不太习惯需要适应....\n",
              "..                                                ...\n",
              "0   《不一样的卡梅拉》的确不一样！家里那么多图书，儿子偏偏对它情有独钟。没事就把它从书架上拿下来...\n",
              "1   这本书紧接《春秋大义》，作者一以贯之地以浅显的语言，告诉我们古代的智力英雄们如何解读春秋，这...\n",
              "1   真想把一套看完之后再写评论，不过“当当真诚邀请”，呵呵其实想想这本书确实也值得写，刚看的时候...\n",
              "1   暮光之城开始看的时候觉得并没有其他魔幻小说的文笔写的好，可能是翻译的原因吧，总是觉得在周转方...\n",
              "0   这本书不象宣传里说得那么好，买到家以后，翻了翻就没有兴趣了。本来是想买回来，让小孩学习英语的...\n",
              "\n",
              "[2111 rows x 1 columns]"
            ]
          },
          "execution_count": 5,
          "metadata": {},
          "output_type": "execute_result"
        }
      ],
      "source": [
        "valid = open('sentiment/sentiment.valid.data', 'r' ,encoding='utf-8')\n",
        "X_valid_text = []\n",
        "y_valid_label = []\n",
        "\n",
        "while(True):\n",
        "  r = valid.readline()\n",
        "  if(r == ''):\n",
        "    break\n",
        "  X_valid_text.append(r[0:len(r)-3])\n",
        "  y_valid_label.append(int(r[len(r)-2]))\n",
        "\n",
        "valid_df = pd.DataFrame(X_valid_text, y_valid_label)\n",
        "valid_df"
      ]
    },
    {
      "cell_type": "markdown",
      "metadata": {
        "id": "z78FurJcqTK2"
      },
      "source": [
        "---"
      ]
    },
    {
      "cell_type": "code",
      "execution_count": 6,
      "metadata": {
        "colab": {
          "base_uri": "https://localhost:8080/"
        },
        "id": "nqHt9dkQq1BD",
        "outputId": "e439acd4-39e3-4343-80f1-f88cc2b63df9"
      },
      "outputs": [
        {
          "name": "stdout",
          "output_type": "stream",
          "text": [
            "Requirement already satisfied: transformers in c:\\users\\user\\anaconda3\\envs\\bert_edmodel\\lib\\site-packages (4.10.3)\n",
            "Requirement already satisfied: numpy>=1.17 in c:\\users\\user\\anaconda3\\envs\\bert_edmodel\\lib\\site-packages (from transformers) (1.18.1)\n",
            "Requirement already satisfied: huggingface-hub>=0.0.12 in c:\\users\\user\\anaconda3\\envs\\bert_edmodel\\lib\\site-packages (from transformers) (0.0.17)\n",
            "Requirement already satisfied: importlib-metadata; python_version < \"3.8\" in c:\\users\\user\\anaconda3\\envs\\bert_edmodel\\lib\\site-packages (from transformers) (1.5.0)\n",
            "Requirement already satisfied: pyyaml>=5.1 in c:\\users\\user\\anaconda3\\envs\\bert_edmodel\\lib\\site-packages (from transformers) (5.3)\n",
            "Requirement already satisfied: regex!=2019.12.17 in c:\\users\\user\\anaconda3\\envs\\bert_edmodel\\lib\\site-packages (from transformers) (2021.9.24)\n",
            "Requirement already satisfied: sacremoses in c:\\users\\user\\anaconda3\\envs\\bert_edmodel\\lib\\site-packages (from transformers) (0.0.46)\n",
            "Requirement already satisfied: tqdm>=4.27 in c:\\users\\user\\anaconda3\\envs\\bert_edmodel\\lib\\site-packages (from transformers) (4.42.1)\n",
            "Requirement already satisfied: requests in c:\\users\\user\\anaconda3\\envs\\bert_edmodel\\lib\\site-packages (from transformers) (2.22.0)\n",
            "Requirement already satisfied: packaging in c:\\users\\user\\anaconda3\\envs\\bert_edmodel\\lib\\site-packages (from transformers) (21.0)\n",
            "Requirement already satisfied: filelock in c:\\users\\user\\anaconda3\\envs\\bert_edmodel\\lib\\site-packages (from transformers) (3.0.12)\n",
            "Requirement already satisfied: tokenizers<0.11,>=0.10.1 in c:\\users\\user\\anaconda3\\envs\\bert_edmodel\\lib\\site-packages (from transformers) (0.10.3)\n",
            "Requirement already satisfied: typing-extensions in c:\\users\\user\\anaconda3\\envs\\bert_edmodel\\lib\\site-packages (from huggingface-hub>=0.0.12->transformers) (3.10.0.2)\n",
            "Requirement already satisfied: zipp>=0.5 in c:\\users\\user\\anaconda3\\envs\\bert_edmodel\\lib\\site-packages (from importlib-metadata; python_version < \"3.8\"->transformers) (2.2.0)\n",
            "Requirement already satisfied: joblib in c:\\users\\user\\anaconda3\\envs\\bert_edmodel\\lib\\site-packages (from sacremoses->transformers) (1.0.1)\n",
            "Requirement already satisfied: six in c:\\users\\user\\anaconda3\\envs\\bert_edmodel\\lib\\site-packages (from sacremoses->transformers) (1.14.0)\n",
            "Requirement already satisfied: click in c:\\users\\user\\anaconda3\\envs\\bert_edmodel\\lib\\site-packages (from sacremoses->transformers) (8.0.1)\n",
            "Requirement already satisfied: idna<2.9,>=2.5 in c:\\users\\user\\anaconda3\\envs\\bert_edmodel\\lib\\site-packages (from requests->transformers) (2.8)\n",
            "Requirement already satisfied: urllib3!=1.25.0,!=1.25.1,<1.26,>=1.21.1 in c:\\users\\user\\anaconda3\\envs\\bert_edmodel\\lib\\site-packages (from requests->transformers) (1.25.8)\n",
            "Requirement already satisfied: certifi>=2017.4.17 in c:\\users\\user\\anaconda3\\envs\\bert_edmodel\\lib\\site-packages (from requests->transformers) (2019.11.28)\n",
            "Requirement already satisfied: chardet<3.1.0,>=3.0.2 in c:\\users\\user\\anaconda3\\envs\\bert_edmodel\\lib\\site-packages (from requests->transformers) (3.0.4)\n",
            "Requirement already satisfied: pyparsing>=2.0.2 in c:\\users\\user\\anaconda3\\envs\\bert_edmodel\\lib\\site-packages (from packaging->transformers) (2.4.7)\n",
            "Requirement already satisfied: colorama; platform_system == \"Windows\" in c:\\users\\user\\anaconda3\\envs\\bert_edmodel\\lib\\site-packages (from click->sacremoses->transformers) (0.4.3)\n"
          ]
        }
      ],
      "source": [
        "!pip install transformers"
      ]
    },
    {
      "cell_type": "code",
      "execution_count": 7,
      "metadata": {
        "colab": {
          "base_uri": "https://localhost:8080/"
        },
        "id": "wviEkaXrYCpb",
        "outputId": "61348d3f-b108-4589-c6fc-5d4503d0a91c"
      },
      "outputs": [
        {
          "name": "stdout",
          "output_type": "stream",
          "text": [
            "Requirement already satisfied: opencc-python-reimplemented in c:\\users\\user\\anaconda3\\envs\\bert_edmodel\\lib\\site-packages (0.1.6)\n"
          ]
        }
      ],
      "source": [
        "!pip install opencc-python-reimplemented"
      ]
    },
    {
      "cell_type": "code",
      "execution_count": 8,
      "metadata": {
        "id": "7AaZhkd0YIWp"
      },
      "outputs": [],
      "source": [
        "from opencc import OpenCC\n",
        "cc = OpenCC('s2twp')  # s2twp為簡體轉台灣繁體(包含慣用語)"
      ]
    },
    {
      "cell_type": "code",
      "execution_count": 9,
      "metadata": {},
      "outputs": [
        {
          "name": "stdout",
          "output_type": "stream",
          "text": [
            "Requirement already satisfied: torch in c:\\users\\user\\anaconda3\\envs\\bert_edmodel\\lib\\site-packages (1.9.1)\n",
            "Requirement already satisfied: typing-extensions in c:\\users\\user\\anaconda3\\envs\\bert_edmodel\\lib\\site-packages (from torch) (3.10.0.2)\n"
          ]
        }
      ],
      "source": [
        "!pip install torch"
      ]
    },
    {
      "cell_type": "code",
      "execution_count": 10,
      "metadata": {
        "colab": {
          "base_uri": "https://localhost:8080/"
        },
        "id": "LzBkBXSbUPH4",
        "outputId": "e6cdbe25-1fc1-497a-c10b-e61ce4d48f0d"
      },
      "outputs": [
        {
          "name": "stdout",
          "output_type": "stream",
          "text": [
            "No GPU available, using the CPU instead.\n"
          ]
        }
      ],
      "source": [
        "import torch\n",
        "import numpy as np\n",
        "if torch.cuda.is_available():       \n",
        "    device = torch.device(\"cuda\")\n",
        "    print(f'There are {torch.cuda.device_count()} GPU(s) available.')\n",
        "    print('Device name:', torch.cuda.get_device_name(0))\n",
        "\n",
        "else:\n",
        "    print('No GPU available, using the CPU instead.')\n",
        "    device = torch.device(\"cpu\")"
      ]
    },
    {
      "cell_type": "code",
      "execution_count": 11,
      "metadata": {
        "id": "Zyx0HsncZDZc"
      },
      "outputs": [],
      "source": [
        "def content_preprocessing(text_list = []):\n",
        "  input_ids = []\n",
        "  attention_masks = []\n",
        "  for i in range(0, len(text_list)):\n",
        "    # 簡體轉為繁體\n",
        "    content = cc.convert(text_list[i])\n",
        "\n",
        "    # 轉成token\n",
        "    tokens = tokenizer.encode_plus(content, add_special_tokens=True, max_length=150, pad_to_max_length=True)\n",
        "    input_ids.append(tokens.get('input_ids'))\n",
        "    attention_masks.append(tokens.get('attention_mask'))\n",
        "\n",
        "  # Convert lists to tensors\n",
        "  input_ids = torch.tensor(input_ids)\n",
        "  attention_masks = torch.tensor(attention_masks)\n",
        "\n",
        "  return input_ids, attention_masks"
      ]
    },
    {
      "cell_type": "code",
      "execution_count": 12,
      "metadata": {
        "id": "ph8rP8hEqI8U"
      },
      "outputs": [],
      "source": [
        "# # 載入一個可以做中文多分類任務的模型\n",
        "# from transformers import BertForSequenceClassification\n",
        "# from IPython.display import clear_output\n",
        "\n",
        "# model = BertForSequenceClassification.from_pretrained('bert-base-chinese', num_labels=2)\n",
        "# clear_output()"
      ]
    },
    {
      "cell_type": "code",
      "execution_count": 13,
      "metadata": {
        "id": "5pA43Jorqvru"
      },
      "outputs": [],
      "source": [
        "# # high-level 顯示此模型裡的 modules\n",
        "# print(\"\"\"name            module\\n----------------------\\n\"\"\")\n",
        "# for name, module in model.named_children():\n",
        "#   if name == \"bert\":\n",
        "#     for n, _ in module.named_children():\n",
        "#             print(f\"{name}:{n}\")\n",
        "#   else:\n",
        "#     print(\"{:15} {}\".format(name, module))"
      ]
    },
    {
      "cell_type": "markdown",
      "metadata": {
        "id": "ULkjW_DYuZih"
      },
      "source": [
        "---"
      ]
    },
    {
      "cell_type": "code",
      "execution_count": 14,
      "metadata": {
        "colab": {
          "base_uri": "https://localhost:8080/",
          "height": 166,
          "referenced_widgets": [
            "817ba801ffa84cb386fe348663eb473e",
            "73e45f4364de425aa4225a00f43ca2f7",
            "a7fefaa31f6f45eeb8fe243f21516a5d",
            "2d954e66f02d406b9d1176b728db03f7",
            "d5dee52a843f48f9aede26fe5103fb8c",
            "b5583082c1964e89828e463b0be4b39f",
            "ffdf8d5ece7540a2a945c40f5d04aa4e",
            "91b51b6cb29543ad9884320c9ac6ef18",
            "2f4be50dba8a4383afa5d9a323a36d5e",
            "7775917eb4d7478a899624539186ec8f",
            "40b00083ba52464e824d9ef4540b5844",
            "8715b8bab3d84ca38a507d80edeacbab",
            "eec79d64dc7f4ee1acb26e1f690fa00d",
            "e948bbf56876455389ac1bc14ec98c1a",
            "fd7525f1682b410aa624042dd09950f7",
            "5297fb2368744d1899b90008211d3f10",
            "d7d3932423f84f158d53182365812e04",
            "86c8beebe7f8412cb5feb3bdd1052a50",
            "cab9e6fc42934ddd8772129096ac5544",
            "68c5784380444764bf752975f5079c99",
            "b6190faec7e1404e96c143e94136f361",
            "c114756367884830828b12fb7a257bd8",
            "140d1ee2bf274aa48bdd2bdfb7446fbe",
            "b34035f6a3ab497680f1dd77f4007213"
          ]
        },
        "id": "9aKElZw6sUcM",
        "outputId": "ab96c158-30e0-4dee-ebd4-730e07e16af4"
      },
      "outputs": [],
      "source": [
        "from transformers import BertTokenizer\n",
        "tokenizer = BertTokenizer.from_pretrained('bert-base-chinese')\n"
      ]
    },
    {
      "cell_type": "code",
      "execution_count": 15,
      "metadata": {
        "colab": {
          "base_uri": "https://localhost:8080/"
        },
        "id": "n8SOZbyCpQmt",
        "outputId": "9808f678-d59b-4f6b-db4e-1e9b27adefc2"
      },
      "outputs": [
        {
          "name": "stderr",
          "output_type": "stream",
          "text": [
            "Truncation was not explicitly activated but `max_length` is provided a specific value, please use `truncation=True` to explicitly truncate examples to max length. Defaulting to 'longest_first' truncation strategy. If you encode pairs of sequences (GLUE-style) with the tokenizer you can select this strategy more precisely by providing a specific strategy to `truncation`.\n"
          ]
        },
        {
          "name": "stdout",
          "output_type": "stream",
          "text": [
            "Tokenizing data...\n"
          ]
        },
        {
          "name": "stderr",
          "output_type": "stream",
          "text": [
            "C:\\Users\\USER\\Anaconda3\\envs\\Bert_EDModel\\lib\\site-packages\\transformers\\tokenization_utils_base.py:2204: FutureWarning: The `pad_to_max_length` argument is deprecated and will be removed in a future version, use `padding=True` or `padding='longest'` to pad to the longest sequence in the batch, or use `padding='max_length'` to pad to a max length. In this case, you can give a specific length with `max_length` (e.g. `max_length=45`) or leave max_length to None to pad to the maximal input size of the model (e.g. 512 for Bert).\n",
            "  FutureWarning,\n"
          ]
        }
      ],
      "source": [
        "# Run function `preprocessing_for_bert` on the train set and the validation set\n",
        "print('Tokenizing data...')\n",
        "train_inputs, train_masks = content_preprocessing(X_train_text)\n",
        "valid_inputs, valid_masks = content_preprocessing(X_valid_text)"
      ]
    },
    {
      "cell_type": "code",
      "execution_count": 16,
      "metadata": {
        "colab": {
          "base_uri": "https://localhost:8080/"
        },
        "id": "aPcWuWqlr2KC",
        "outputId": "442a7239-05a1-4263-ba3f-9361f17be3ad"
      },
      "outputs": [
        {
          "data": {
            "text/plain": [
              "array([1, 0, 1, ..., 1, 1, 0])"
            ]
          },
          "execution_count": 16,
          "metadata": {},
          "output_type": "execute_result"
        }
      ],
      "source": [
        "np.array(y_train_label)\n"
      ]
    },
    {
      "cell_type": "code",
      "execution_count": 17,
      "metadata": {
        "id": "Nvjg8_Agn1X5"
      },
      "outputs": [],
      "source": [
        "from torch.utils.data import TensorDataset, DataLoader, RandomSampler, SequentialSampler\n",
        "\n",
        "# Convert other data types to torch.Tensor\n",
        "train_labels = torch.tensor(y_train_label)    # Tensor实际上就是一个多维数组\n",
        "valid_labels = torch.tensor(y_valid_label)\n",
        "\n",
        "# For fine-tuning BERT, the authors recommend a batch size of 16 or 32.\n",
        "batch_size = 32\n",
        "\n",
        "# Create the DataLoader for our training set\n",
        "train_data = TensorDataset(train_inputs, train_masks, train_labels)\n",
        "train_sampler = RandomSampler(train_data)\n",
        "train_dataloader = DataLoader(train_data, sampler=train_sampler, batch_size=batch_size)\n",
        "\n",
        "# Create the DataLoader for our validation set\n",
        "valid_data = TensorDataset(valid_inputs, valid_masks, valid_labels)\n",
        "valid_sampler = SequentialSampler(valid_data)\n",
        "valid_dataloader = DataLoader(valid_data, sampler=valid_sampler, batch_size=batch_size)"
      ]
    },
    {
      "cell_type": "code",
      "execution_count": 18,
      "metadata": {
        "id": "GdJcaUWRUaS-"
      },
      "outputs": [],
      "source": [
        "import torch.nn as nn\n",
        "from transformers import BertModel\n",
        "\n",
        "# Create the BertClassfier class\n",
        "class BertClassifier(nn.Module):\n",
        "  \"\"\"Bert Model for Classification Tasks.\n",
        "  \"\"\"\n",
        "  def __init__(self, freeze_bert=False):\n",
        "    \"\"\"\n",
        "    @param    bert: a BertModel object\n",
        "    @param    classifier: a torch.nn.Module classifier\n",
        "    @param    freeze_bert (bool): Set `False` to fine-tune the BERT model\n",
        "    \"\"\"\n",
        "    super(BertClassifier, self).__init__()\n",
        "    # Specify hidden size of BERT, hidden size of our classifier, and number of labels\n",
        "    D_in, H, D_out = 768, 50, 2\n",
        "\n",
        "    # Instantiate BERT model\n",
        "    self.bert = BertModel.from_pretrained('bert-base-chinese')\n",
        "\n",
        "    # Instantiate an one-layer feed-forward classifier\n",
        "    self.classifier = nn.Sequential(\n",
        "     nn.Linear(D_in, H),\n",
        "     nn.ReLU(),\n",
        "     #nn.Dropout(0.5),\n",
        "     nn.Linear(H, D_out)\n",
        "    )\n",
        "\n",
        "    # Freeze the BERT model\n",
        "    if freeze_bert:\n",
        "      for param in self.bert.parameters():\n",
        "        param.requires_grad = False\n",
        "        \n",
        "  def forward(self, input_ids, attention_mask):\n",
        "    \"\"\"\n",
        "    Feed input to BERT and the classifier to compute logits.\n",
        "    @param    input_ids (torch.Tensor): an input tensor with shape (batch_size, max_length)\n",
        "    @param    attention_mask (torch.Tensor): a tensor that hold attention mask information with shape (batch_size, max_length)\n",
        "    @return   logits (torch.Tensor): an output tensor with shape (batch_size, num_labels)\n",
        "    \"\"\"\n",
        "    # Feed input to BERT\n",
        "    outputs = self.bert(input_ids=input_ids, attention_mask=attention_mask)\n",
        "        \n",
        "    # Extract the last hidden state of the token `[CLS]` for classification task\n",
        "    last_hidden_state_cls = outputs[0][:, 0, :]\n",
        "\n",
        "    # Feed input to classifier to compute logits\n",
        "    logits = self.classifier(last_hidden_state_cls)\n",
        "\n",
        "    return logits"
      ]
    },
    {
      "cell_type": "markdown",
      "metadata": {
        "id": "ksz_--j6s6qH"
      },
      "source": [
        "---"
      ]
    },
    {
      "cell_type": "code",
      "execution_count": 19,
      "metadata": {
        "id": "MEHt0Hpxs7zW"
      },
      "outputs": [],
      "source": [
        "from transformers import AdamW, get_linear_schedule_with_warmup\n",
        "\n",
        "def initialize_model(epochs=4):\n",
        "    \"\"\"Initialize the Bert Classifier, the optimizer and the learning rate scheduler.\n",
        "    \"\"\"\n",
        "    # Instantiate Bert Classifier\n",
        "    bert_classifier = BertClassifier(freeze_bert=False)\n",
        "\n",
        "    # Tell PyTorch to run the model on GPU\n",
        "    bert_classifier.to(device)\n",
        "\n",
        "    # Create the optimizer\n",
        "    optimizer = AdamW(bert_classifier.parameters(),\n",
        "                      lr=5e-5,    # Default learning rate\n",
        "                      eps=1e-8    # Default epsilon value\n",
        "                      )\n",
        "\n",
        "    # Total number of training steps\n",
        "    total_steps = len(train_dataloader) * epochs\n",
        "\n",
        "    # Set up the learning rate scheduler\n",
        "    scheduler = get_linear_schedule_with_warmup(optimizer,\n",
        "                           num_warmup_steps=0, # Default value\n",
        "                           num_training_steps=total_steps)\n",
        "    return bert_classifier, optimizer, scheduler"
      ]
    },
    {
      "cell_type": "code",
      "execution_count": 20,
      "metadata": {
        "id": "Y94J47Des_cq"
      },
      "outputs": [],
      "source": [
        "import random\n",
        "import time\n",
        "\n",
        "# Specify loss function\n",
        "loss_fn = nn.CrossEntropyLoss()\n",
        "\n",
        "def set_seed(seed_value=42):\n",
        "    \"\"\"Set seed for reproducibility.\n",
        "    \"\"\"\n",
        "    random.seed(seed_value)\n",
        "    np.random.seed(seed_value)\n",
        "    torch.manual_seed(seed_value)\n",
        "    torch.cuda.manual_seed_all(seed_value)\n",
        "\n",
        "def train(model, train_dataloader, val_dataloader=None, epochs=4, evaluation=False):\n",
        "    \"\"\"Train the BertClassifier model.\n",
        "    \"\"\"\n",
        "    # Start training loop\n",
        "    print(\"Start training...\\n\")\n",
        "    for epoch_i in range(epochs):\n",
        "        # =======================================\n",
        "        #               Training\n",
        "        # =======================================\n",
        "        # Print the header of the result table\n",
        "        print(f\"{'Epoch':^7} | {'Batch':^7} | {'Train Loss':^12} | {'Val Loss':^10} | {'Val Acc':^9} | {'Elapsed':^9}\")\n",
        "        print(\"-\"*70)\n",
        "\n",
        "        # Measure the elapsed time of each epoch\n",
        "        t0_epoch, t0_batch = time.time(), time.time()\n",
        "\n",
        "        # Reset tracking variables at the beginning of each epoch\n",
        "        total_loss, batch_loss, batch_counts = 0, 0, 0\n",
        "\n",
        "        # Put the model into the training mode\n",
        "        model.train()\n",
        "\n",
        "        # For each batch of training data...\n",
        "        for step, batch in enumerate(train_dataloader):\n",
        "            batch_counts +=1\n",
        "            # Load batch to GPU\n",
        "            b_input_ids, b_attn_mask, b_labels = tuple(t.to(device) for t in batch)\n",
        "\n",
        "            # Zero out any previously calculated gradients\n",
        "            model.zero_grad()\n",
        "\n",
        "            # Perform a forward pass. This will return logits.\n",
        "            logits = model(b_input_ids, b_attn_mask)\n",
        "\n",
        "            # Compute loss and accumulate the loss values\n",
        "            loss = loss_fn(logits, b_labels)\n",
        "            batch_loss += loss.item()\n",
        "            total_loss += loss.item()\n",
        "\n",
        "            # Perform a backward pass to calculate gradients\n",
        "            loss.backward()\n",
        "\n",
        "            # Clip the norm of the gradients to 1.0 to prevent \"exploding gradients\"\n",
        "            torch.nn.utils.clip_grad_norm_(model.parameters(), 1.0)\n",
        "\n",
        "            # Update parameters and the learning rate\n",
        "            optimizer.step()\n",
        "            scheduler.step()\n",
        "\n",
        "            # Print the loss values and time elapsed for every 20 batches\n",
        "            if (step % 20 == 0 and step != 0) or (step == len(train_dataloader) - 1):\n",
        "                # Calculate time elapsed for 20 batches\n",
        "                time_elapsed = time.time() - t0_batch\n",
        "\n",
        "                # Print training results\n",
        "                print(f\"{epoch_i + 1:^7} | {step:^7} | {batch_loss / batch_counts:^12.6f} | {'-':^10} | {'-':^9} | {time_elapsed:^9.2f}\")\n",
        "\n",
        "                # Reset batch tracking variables\n",
        "                batch_loss, batch_counts = 0, 0\n",
        "                t0_batch = time.time()\n",
        "\n",
        "        # Calculate the average loss over the entire training data\n",
        "        avg_train_loss = total_loss / len(train_dataloader)\n",
        "\n",
        "        print(\"-\"*70)\n",
        "        # =======================================\n",
        "        #               Evaluation\n",
        "        # =======================================\n",
        "        if evaluation == True:\n",
        "            # After the completion of each training epoch, measure the model's performance\n",
        "            # on our validation set.\n",
        "            val_loss, val_accuracy = evaluate(model, val_dataloader)\n",
        "\n",
        "            # Print performance over the entire training data\n",
        "            time_elapsed = time.time() - t0_epoch\n",
        "            \n",
        "            print(f\"{epoch_i + 1:^7} | {'-':^7} | {avg_train_loss:^12.6f} | {val_loss:^10.6f} | {val_accuracy:^9.2f} | {time_elapsed:^9.2f}\")\n",
        "            print(\"-\"*70)\n",
        "        print(\"\\n\")\n",
        "    \n",
        "    print(\"Training complete!\")\n",
        "\n",
        "\n",
        "def evaluate(model, val_dataloader):\n",
        "    \"\"\"After the completion of each training epoch, measure the model's performance\n",
        "    on our validation set.\n",
        "    \"\"\"\n",
        "    # Put the model into the evaluation mode. The dropout layers are disabled during\n",
        "    # the test time.\n",
        "    model.eval()\n",
        "\n",
        "    # Tracking variables\n",
        "    val_accuracy = []\n",
        "    val_loss = []\n",
        "\n",
        "    # For each batch in our validation set...\n",
        "    for batch in val_dataloader:\n",
        "        # Load batch to GPU\n",
        "        b_input_ids, b_attn_mask, b_labels = tuple(t.to(device) for t in batch)\n",
        "\n",
        "        # Compute logits\n",
        "        with torch.no_grad():\n",
        "            logits = model(b_input_ids, b_attn_mask)\n",
        "\n",
        "        # Compute loss\n",
        "        loss = loss_fn(logits, b_labels)\n",
        "        val_loss.append(loss.item())\n",
        "\n",
        "        # Get the predictions\n",
        "        preds = torch.argmax(logits, dim=1).flatten()\n",
        "\n",
        "        # Calculate the accuracy rate\n",
        "        accuracy = (preds == b_labels).cpu().numpy().mean() * 100\n",
        "        val_accuracy.append(accuracy)\n",
        "\n",
        "    # Compute the average accuracy and loss over the validation set.\n",
        "    val_loss = np.mean(val_loss)\n",
        "    val_accuracy = np.mean(val_accuracy)\n",
        "\n",
        "    return val_loss, val_accuracy"
      ]
    },
    {
      "cell_type": "code",
      "execution_count": 21,
      "metadata": {
        "id": "5toMG5FMtAOG"
      },
      "outputs": [],
      "source": [
        "# set_seed(42)    # Set seed for reproducibility\n",
        "# bert_classifier, optimizer, scheduler = initialize_model(epochs=2)\n",
        "# train(bert_classifier, train_dataloader, test_dataloader, epochs=2, evaluation=True)"
      ]
    },
    {
      "cell_type": "code",
      "execution_count": 22,
      "metadata": {
        "id": "UYoiCJnGtFTb"
      },
      "outputs": [],
      "source": [
        "import torch.nn.functional as F\n",
        "\n",
        "def bert_predict(model, test_dataloader):\n",
        "    \"\"\"Perform a forward pass on the trained BERT model to predict probabilities\n",
        "    on the test set.\n",
        "    \"\"\"\n",
        "    # Put the model into the evaluation mode. The dropout layers are disabled during\n",
        "    # the test time.\n",
        "    model.eval()\n",
        "\n",
        "    all_logits = []\n",
        "\n",
        "    # For each batch in our test set...\n",
        "    for batch in test_dataloader:\n",
        "        # Load batch to GPU\n",
        "        b_input_ids, b_attn_mask = tuple(t.to(device) for t in batch)[:2]\n",
        "\n",
        "        # Compute logits\n",
        "        with torch.no_grad():\n",
        "            logits = model(b_input_ids, b_attn_mask)\n",
        "        all_logits.append(logits)\n",
        "    \n",
        "    # Concatenate logits from each batch\n",
        "    all_logits = torch.cat(all_logits, dim=0)\n",
        "\n",
        "    # Apply softmax to calculate probabilities\n",
        "    probs = F.softmax(all_logits, dim=1).cpu().numpy()\n",
        "\n",
        "    return probs"
      ]
    },
    {
      "cell_type": "code",
      "execution_count": 23,
      "metadata": {},
      "outputs": [
        {
          "name": "stdout",
          "output_type": "stream",
          "text": [
            "Requirement already satisfied: sklearn in c:\\users\\user\\anaconda3\\envs\\bert_edmodel\\lib\\site-packages (0.0)\n",
            "Requirement already satisfied: scikit-learn in c:\\users\\user\\anaconda3\\envs\\bert_edmodel\\lib\\site-packages (from sklearn) (1.0)\n",
            "Requirement already satisfied: scipy>=1.1.0 in c:\\users\\user\\anaconda3\\envs\\bert_edmodel\\lib\\site-packages (from scikit-learn->sklearn) (1.4.1)\n",
            "Requirement already satisfied: threadpoolctl>=2.0.0 in c:\\users\\user\\anaconda3\\envs\\bert_edmodel\\lib\\site-packages (from scikit-learn->sklearn) (2.2.0)\n",
            "Requirement already satisfied: numpy>=1.14.6 in c:\\users\\user\\anaconda3\\envs\\bert_edmodel\\lib\\site-packages (from scikit-learn->sklearn) (1.18.1)\n",
            "Requirement already satisfied: joblib>=0.11 in c:\\users\\user\\anaconda3\\envs\\bert_edmodel\\lib\\site-packages (from scikit-learn->sklearn) (1.0.1)\n"
          ]
        }
      ],
      "source": [
        "!pip install sklearn"
      ]
    },
    {
      "cell_type": "code",
      "execution_count": 24,
      "metadata": {
        "id": "t3DKDeV4xaH1"
      },
      "outputs": [],
      "source": [
        "from sklearn.metrics import accuracy_score, roc_curve, auc\n",
        "#import matplotlib.pyplot as plt\n",
        "\n",
        "def evaluate_roc(probs, y_true):\n",
        "    \"\"\"\n",
        "    - Print AUC and accuracy on the test set\n",
        "    - Plot ROC\n",
        "    @params    probs (np.array): an array of predicted probabilities with shape (len(y_true), 2)\n",
        "    @params    y_true (np.array): an array of the true values with shape (len(y_true),)\n",
        "    \"\"\"\n",
        "    preds = probs[:, 1]\n",
        "    fpr, tpr, threshold = roc_curve(y_true, preds)\n",
        "    roc_auc = auc(fpr, tpr)\n",
        "    print(f'AUC: {roc_auc:.4f}')\n",
        "       \n",
        "    # Get accuracy over the test set\n",
        "    y_pred = np.where(preds >= 0.5, 1, 0)\n",
        "    accuracy = accuracy_score(y_true, y_pred)\n",
        "    print(f'Accuracy: {accuracy*100:.2f}%')\n",
        "    \n",
        "    # Plot ROC AUC\n",
        "    # plt.title('Receiver Operating Characteristic')\n",
        "    # plt.plot(fpr, tpr, 'b', label = 'AUC = %0.2f' % roc_auc)\n",
        "    # plt.legend(loc = 'lower right')\n",
        "    # plt.plot([0, 1], [0, 1],'r--')\n",
        "    # plt.xlim([0, 1])\n",
        "    # plt.ylim([0, 1])\n",
        "    # plt.ylabel('True Positive Rate')\n",
        "    # plt.xlabel('False Positive Rate')\n",
        "    # plt.show()"
      ]
    },
    {
      "cell_type": "code",
      "execution_count": 25,
      "metadata": {
        "id": "IMaLhNdPtIAV"
      },
      "outputs": [],
      "source": [
        "# # Compute predicted probabilities on the test set\n",
        "# probs = bert_predict(bert_classifier, test_dataloader)\n",
        "\n",
        "# # Evaluate the Bert classifier\n",
        "# evaluate_roc(probs, y_test_label)"
      ]
    },
    {
      "cell_type": "code",
      "execution_count": 26,
      "metadata": {
        "colab": {
          "base_uri": "https://localhost:8080/",
          "height": 1000,
          "referenced_widgets": [
            "c1cf1e56ecbd414db8f3b3d79eaf643e",
            "950ea0f947204682b9c0834cf24e41eb",
            "38455a2072a543a9bf0dab0c2b292fa5",
            "09467284067347f4be86128a7542180e",
            "8bfd76c13dc74a95a7dfd359e3715c9e",
            "48ce8ab7b1a942efa86ecb940a68ecce",
            "2918ec202de244389e8b99acdf8a18b2",
            "2fdd4d755597404cb40561b183448b44",
            "d2b3dd96fef741c8946879bc6f24399f",
            "f94f676d60ce46d0bd5fea2f556b95fb",
            "3da67a929f5f4b5fae8e41d4a60b3062",
            "99846100b51345c595c3618f574397d6",
            "ecaade172f204b6bb24a0d08655a2836",
            "af4ff17033f54805b781f9c3d029e049",
            "783f2dda48584ccfab029ca8f06b15d1",
            "f3b0a9942b6f400eba4406f708dbbdb0"
          ]
        },
        "id": "ve2ElgVPtRbr",
        "outputId": "75cffa20-af2a-42b9-bee8-881185f2c797"
      },
      "outputs": [
        {
          "name": "stderr",
          "output_type": "stream",
          "text": [
            "Some weights of the model checkpoint at bert-base-chinese were not used when initializing BertModel: ['cls.predictions.decoder.weight', 'cls.seq_relationship.bias', 'cls.predictions.transform.LayerNorm.bias', 'cls.predictions.transform.dense.bias', 'cls.predictions.transform.LayerNorm.weight', 'cls.seq_relationship.weight', 'cls.predictions.bias', 'cls.predictions.transform.dense.weight']\n",
            "- This IS expected if you are initializing BertModel from the checkpoint of a model trained on another task or with another architecture (e.g. initializing a BertForSequenceClassification model from a BertForPreTraining model).\n",
            "- This IS NOT expected if you are initializing BertModel from the checkpoint of a model that you expect to be exactly identical (initializing a BertForSequenceClassification model from a BertForSequenceClassification model).\n"
          ]
        },
        {
          "name": "stdout",
          "output_type": "stream",
          "text": [
            "Start training...\n",
            "\n",
            " Epoch  |  Batch  |  Train Loss  |  Val Loss  |  Val Acc  |  Elapsed \n",
            "----------------------------------------------------------------------\n",
            "   1    |   20    |   0.441359   |     -      |     -     |  307.12  \n",
            "   1    |   40    |   0.301912   |     -      |     -     |  276.65  \n",
            "   1    |   60    |   0.330802   |     -      |     -     |  281.61  \n",
            "   1    |   80    |   0.280108   |     -      |     -     |  296.32  \n",
            "   1    |   100   |   0.244532   |     -      |     -     |  265.77  \n",
            "   1    |   120   |   0.222457   |     -      |     -     |  258.70  \n",
            "   1    |   140   |   0.254340   |     -      |     -     |  263.76  \n",
            "   1    |   160   |   0.246061   |     -      |     -     |  267.57  \n",
            "   1    |   180   |   0.249976   |     -      |     -     |  277.49  \n",
            "   1    |   200   |   0.239768   |     -      |     -     |  284.72  \n",
            "   1    |   220   |   0.210412   |     -      |     -     |  269.84  \n",
            "   1    |   240   |   0.233927   |     -      |     -     |  265.09  \n",
            "   1    |   260   |   0.217195   |     -      |     -     |  266.69  \n",
            "   1    |   280   |   0.186550   |     -      |     -     |  268.18  \n",
            "   1    |   300   |   0.163264   |     -      |     -     |  266.41  \n",
            "   1    |   320   |   0.221562   |     -      |     -     |  257.25  \n",
            "   1    |   340   |   0.199712   |     -      |     -     |  255.08  \n",
            "   1    |   360   |   0.168776   |     -      |     -     |  256.11  \n",
            "   1    |   380   |   0.185354   |     -      |     -     |  255.79  \n",
            "   1    |   400   |   0.192630   |     -      |     -     |  255.34  \n",
            "   1    |   420   |   0.179568   |     -      |     -     |  254.85  \n",
            "   1    |   440   |   0.124788   |     -      |     -     |  274.59  \n",
            "   1    |   460   |   0.217940   |     -      |     -     |  259.23  \n",
            "   1    |   480   |   0.213582   |     -      |     -     |  326.32  \n",
            "   1    |   500   |   0.181910   |     -      |     -     |  319.94  \n",
            "   1    |   520   |   0.144707   |     -      |     -     |  313.76  \n",
            "   1    |   540   |   0.179138   |     -      |     -     |  307.30  \n",
            "   1    |   560   |   0.159091   |     -      |     -     |  326.71  \n",
            "   1    |   580   |   0.161904   |     -      |     -     |  320.11  \n",
            "   1    |   593   |   0.146511   |     -      |     -     |  196.95  \n",
            "----------------------------------------------------------------------\n",
            "\n",
            "\n",
            " Epoch  |  Batch  |  Train Loss  |  Val Loss  |  Val Acc  |  Elapsed \n",
            "----------------------------------------------------------------------\n",
            "   2    |   20    |   0.097758   |     -      |     -     |  317.02  \n",
            "   2    |   40    |   0.093202   |     -      |     -     |  263.39  \n",
            "   2    |   60    |   0.080250   |     -      |     -     |  281.42  \n",
            "   2    |   80    |   0.077605   |     -      |     -     |  327.09  \n",
            "   2    |   100   |   0.100133   |     -      |     -     |  275.37  \n",
            "   2    |   120   |   0.082080   |     -      |     -     |  286.14  \n",
            "   2    |   140   |   0.071386   |     -      |     -     |  274.22  \n",
            "   2    |   160   |   0.092681   |     -      |     -     |  275.05  \n",
            "   2    |   180   |   0.090175   |     -      |     -     |  272.30  \n",
            "   2    |   200   |   0.098661   |     -      |     -     |  276.90  \n",
            "   2    |   220   |   0.096610   |     -      |     -     |  269.97  \n",
            "   2    |   240   |   0.087529   |     -      |     -     |  270.06  \n",
            "   2    |   260   |   0.058348   |     -      |     -     |  270.30  \n",
            "   2    |   280   |   0.087399   |     -      |     -     |  269.74  \n",
            "   2    |   300   |   0.091355   |     -      |     -     |  270.39  \n",
            "   2    |   320   |   0.059224   |     -      |     -     |  270.24  \n",
            "   2    |   340   |   0.095724   |     -      |     -     |  303.86  \n",
            "   2    |   360   |   0.065644   |     -      |     -     |  308.10  \n",
            "   2    |   380   |   0.071073   |     -      |     -     |  305.11  \n",
            "   2    |   400   |   0.061805   |     -      |     -     |  290.88  \n",
            "   2    |   420   |   0.097806   |     -      |     -     |  260.67  \n",
            "   2    |   440   |   0.090657   |     -      |     -     |  260.40  \n",
            "   2    |   460   |   0.063698   |     -      |     -     |  269.30  \n",
            "   2    |   480   |   0.081306   |     -      |     -     |  257.96  \n",
            "   2    |   500   |   0.068613   |     -      |     -     |  259.02  \n",
            "   2    |   520   |   0.078969   |     -      |     -     |  259.51  \n",
            "   2    |   540   |   0.105655   |     -      |     -     |  258.35  \n",
            "   2    |   560   |   0.047740   |     -      |     -     |  258.18  \n",
            "   2    |   580   |   0.073621   |     -      |     -     |  258.17  \n",
            "   2    |   593   |   0.080061   |     -      |     -     |  163.57  \n",
            "----------------------------------------------------------------------\n",
            "\n",
            "\n",
            "Training complete!\n"
          ]
        }
      ],
      "source": [
        "# Concatenate the train set and the validation set\n",
        "full_train_data = torch.utils.data.ConcatDataset([train_data, valid_data])\n",
        "full_train_sampler = RandomSampler(full_train_data)\n",
        "full_train_dataloader = DataLoader(full_train_data, sampler=full_train_sampler, batch_size=32)\n",
        "\n",
        "# Train the Bert Classifier on the entire training data\n",
        "set_seed(42)\n",
        "bert_classifier, optimizer, scheduler = initialize_model(epochs=2)\n",
        "train(bert_classifier, full_train_dataloader, epochs=2)"
      ]
    },
    {
      "cell_type": "markdown",
      "metadata": {
        "id": "l6C3DzWLZfyY"
      },
      "source": [
        "使用test預測"
      ]
    },
    {
      "cell_type": "code",
      "execution_count": 27,
      "metadata": {
        "colab": {
          "base_uri": "https://localhost:8080/",
          "height": 199
        },
        "id": "W-57fgSUfgdu",
        "outputId": "d7a86203-63b5-4aff-c44e-b2267364c3a5"
      },
      "outputs": [
        {
          "data": {
            "text/html": [
              "<div>\n",
              "<style scoped>\n",
              "    .dataframe tbody tr th:only-of-type {\n",
              "        vertical-align: middle;\n",
              "    }\n",
              "\n",
              "    .dataframe tbody tr th {\n",
              "        vertical-align: top;\n",
              "    }\n",
              "\n",
              "    .dataframe thead th {\n",
              "        text-align: right;\n",
              "    }\n",
              "</style>\n",
              "<table border=\"1\" class=\"dataframe\">\n",
              "  <thead>\n",
              "    <tr style=\"text-align: right;\">\n",
              "      <th></th>\n",
              "      <th>0</th>\n",
              "    </tr>\n",
              "  </thead>\n",
              "  <tbody>\n",
              "    <tr>\n",
              "      <th>1</th>\n",
              "      <td>Thinkpad的性能没得说了吧，地球人都知道的，偶就是冲Thinkpad来的，呵呵。同学送...</td>\n",
              "    </tr>\n",
              "    <tr>\n",
              "      <th>0</th>\n",
              "      <td>商品收到了!我简单翻了一下,只看了前面的几本,感觉字太少了,也没有情节,不知后面几本怎么样,...</td>\n",
              "    </tr>\n",
              "    <tr>\n",
              "      <th>0</th>\n",
              "      <td>硬盘只有一个C区，为什么呢，而且在下载更新时，竟然说联想在改变软件更新的方式，不能更新，不明白。</td>\n",
              "    </tr>\n",
              "    <tr>\n",
              "      <th>0</th>\n",
              "      <td>于丹的心得，在电视上看过，也上网看过，记得在大学的时候老师还放给我们看过， 现在看有书，就买...</td>\n",
              "    </tr>\n",
              "    <tr>\n",
              "      <th>1</th>\n",
              "      <td>我是一名幼儿园老师，这套书是我买来送人的，那个对象——五岁的小女孩喜欢得不得了，天天晚上都会...</td>\n",
              "    </tr>\n",
              "  </tbody>\n",
              "</table>\n",
              "</div>"
            ],
            "text/plain": [
              "                                                   0\n",
              "1  Thinkpad的性能没得说了吧，地球人都知道的，偶就是冲Thinkpad来的，呵呵。同学送...\n",
              "0  商品收到了!我简单翻了一下,只看了前面的几本,感觉字太少了,也没有情节,不知后面几本怎么样,...\n",
              "0   硬盘只有一个C区，为什么呢，而且在下载更新时，竟然说联想在改变软件更新的方式，不能更新，不明白。\n",
              "0  于丹的心得，在电视上看过，也上网看过，记得在大学的时候老师还放给我们看过， 现在看有书，就买...\n",
              "1  我是一名幼儿园老师，这套书是我买来送人的，那个对象——五岁的小女孩喜欢得不得了，天天晚上都会..."
            ]
          },
          "execution_count": 27,
          "metadata": {},
          "output_type": "execute_result"
        }
      ],
      "source": [
        "test_df.sample(5)"
      ]
    },
    {
      "cell_type": "code",
      "execution_count": 28,
      "metadata": {
        "colab": {
          "base_uri": "https://localhost:8080/"
        },
        "id": "qXIt5ShEZjTe",
        "outputId": "96b9fca4-6673-42c7-8a82-dd38a9e4ef79"
      },
      "outputs": [
        {
          "name": "stdout",
          "output_type": "stream",
          "text": [
            "Tokenizing data...\n"
          ]
        },
        {
          "name": "stderr",
          "output_type": "stream",
          "text": [
            "C:\\Users\\USER\\Anaconda3\\envs\\Bert_EDModel\\lib\\site-packages\\transformers\\tokenization_utils_base.py:2204: FutureWarning: The `pad_to_max_length` argument is deprecated and will be removed in a future version, use `padding=True` or `padding='longest'` to pad to the longest sequence in the batch, or use `padding='max_length'` to pad to a max length. In this case, you can give a specific length with `max_length` (e.g. `max_length=45`) or leave max_length to None to pad to the maximal input size of the model (e.g. 512 for Bert).\n",
            "  FutureWarning,\n"
          ]
        }
      ],
      "source": [
        "print('Tokenizing data...')\n",
        "test_inputs, test_masks = content_preprocessing(X_test_text)\n",
        "\n",
        "# Create the DataLoader for our test set\n",
        "test_dataset = TensorDataset(test_inputs, test_masks)\n",
        "test_sampler = SequentialSampler(test_dataset)\n",
        "test_dataloader = DataLoader(test_dataset, sampler=test_sampler, batch_size=32)"
      ]
    },
    {
      "cell_type": "code",
      "execution_count": 29,
      "metadata": {
        "colab": {
          "base_uri": "https://localhost:8080/"
        },
        "id": "tHRBw3qfZqTW",
        "outputId": "66b0c3a3-02f5-495e-9264-c282914e2ad7"
      },
      "outputs": [
        {
          "name": "stdout",
          "output_type": "stream",
          "text": [
            "Number of tweets predicted non-negative:  1000\n"
          ]
        }
      ],
      "source": [
        "# Compute predicted probabilities on the test set\n",
        "probs = bert_predict(bert_classifier, test_dataloader)\n",
        "\n",
        "# Get predictions from the probabilities\n",
        "threshold = 0.9\n",
        "preds = np.where(probs[:, 1] > threshold, 1, 0)\n",
        "\n",
        "# Number of tweets predicted non-negative\n",
        "print(\"Number of tweets predicted non-negative: \", preds.sum())"
      ]
    },
    {
      "cell_type": "code",
      "execution_count": 30,
      "metadata": {
        "colab": {
          "base_uri": "https://localhost:8080/"
        },
        "id": "Z48ixBschBnK",
        "outputId": "902f02a9-8903-48e1-ed02-89cb4345590f"
      },
      "outputs": [
        {
          "data": {
            "text/plain": [
              "array([0, 1, 0, ..., 1, 0, 0])"
            ]
          },
          "execution_count": 30,
          "metadata": {},
          "output_type": "execute_result"
        }
      ],
      "source": [
        "preds"
      ]
    },
    {
      "cell_type": "code",
      "execution_count": 31,
      "metadata": {
        "colab": {
          "base_uri": "https://localhost:8080/"
        },
        "id": "418voU-YhVG3",
        "outputId": "b218766e-a1bb-4cc8-fde0-5045e663a5d3"
      },
      "outputs": [
        {
          "name": "stdout",
          "output_type": "stream",
          "text": [
            "2013\n"
          ]
        }
      ],
      "source": [
        "count = 0\n",
        "for i in range(0, len(preds)):\n",
        "  if(preds[i] == y_test_label[i]):\n",
        "    count += 1\n",
        "\n",
        "print(count)"
      ]
    },
    {
      "cell_type": "code",
      "execution_count": 32,
      "metadata": {
        "colab": {
          "base_uri": "https://localhost:8080/"
        },
        "id": "9riPHw4ihsru",
        "outputId": "a6597076-082b-4641-c02e-793966321ec7"
      },
      "outputs": [
        {
          "data": {
            "text/plain": [
              "2111"
            ]
          },
          "execution_count": 32,
          "metadata": {},
          "output_type": "execute_result"
        }
      ],
      "source": [
        "len(y_test_label)"
      ]
    },
    {
      "cell_type": "code",
      "execution_count": 33,
      "metadata": {
        "colab": {
          "base_uri": "https://localhost:8080/",
          "height": 410
        },
        "id": "OjjWsbM9Zsyi",
        "outputId": "870833b5-7040-4304-d71f-9b623cc7f2a0"
      },
      "outputs": [
        {
          "data": {
            "text/html": [
              "<div>\n",
              "<style scoped>\n",
              "    .dataframe tbody tr th:only-of-type {\n",
              "        vertical-align: middle;\n",
              "    }\n",
              "\n",
              "    .dataframe tbody tr th {\n",
              "        vertical-align: top;\n",
              "    }\n",
              "\n",
              "    .dataframe thead th {\n",
              "        text-align: right;\n",
              "    }\n",
              "</style>\n",
              "<table border=\"1\" class=\"dataframe\">\n",
              "  <thead>\n",
              "    <tr style=\"text-align: right;\">\n",
              "      <th></th>\n",
              "      <th>0</th>\n",
              "    </tr>\n",
              "  </thead>\n",
              "  <tbody>\n",
              "    <tr>\n",
              "      <th>0</th>\n",
              "      <td>换书要求客户自己邮寄到北京，光邮费就相当于书费，还有必要换吗，新买一本不更好吗，你们这样的服...</td>\n",
              "    </tr>\n",
              "    <tr>\n",
              "      <th>0</th>\n",
              "      <td>电池时间短，无线网卡上不去，模板是10寸的，不是8.9的，没有想象中小。</td>\n",
              "    </tr>\n",
              "    <tr>\n",
              "      <th>0</th>\n",
              "      <td>史上最臭最恶劣最令人无法忍受喇叭的笔记本！越听越想砸！竟然还不如我的索尼爱立信G700C手机...</td>\n",
              "    </tr>\n",
              "    <tr>\n",
              "      <th>0</th>\n",
              "      <td>这是我住过的最差的酒店。入住的时候房卡搞错，明明只要440（这个价格我也就不说了，根本不值）...</td>\n",
              "    </tr>\n",
              "    <tr>\n",
              "      <th>0</th>\n",
              "      <td>1、该酒店房间小,我住的标准间很小,很舒服;2、这个酒店是三星级，我认为最多能够上两颗星，属...</td>\n",
              "    </tr>\n",
              "    <tr>\n",
              "      <th>...</th>\n",
              "      <td>...</td>\n",
              "    </tr>\n",
              "    <tr>\n",
              "      <th>0</th>\n",
              "      <td>书非常好，是广州库房特别慢，一个件配货配6天。</td>\n",
              "    </tr>\n",
              "    <tr>\n",
              "      <th>0</th>\n",
              "      <td>居然不能下载铃声，发回来的短信全是乱码，而且我翻遍了手机说明书都没找到自编铃声在哪．.......</td>\n",
              "    </tr>\n",
              "    <tr>\n",
              "      <th>0</th>\n",
              "      <td>太差的酒店，里面的很多东西都发黄了，隔壁都是出租给别人办公的。服务态度也不好，找他们件事，他...</td>\n",
              "    </tr>\n",
              "    <tr>\n",
              "      <th>0</th>\n",
              "      <td>我是11月29日入住,12月1日离店的,由于我本人不慎将新买的皮鞋和一个仪器上的配件忘记在宾...</td>\n",
              "    </tr>\n",
              "    <tr>\n",
              "      <th>0</th>\n",
              "      <td>1、货源紧张，6月19号下的单，27号才到2、自带的Vista运行实在太慢了，自己又加了1G...</td>\n",
              "    </tr>\n",
              "  </tbody>\n",
              "</table>\n",
              "<p>1111 rows × 1 columns</p>\n",
              "</div>"
            ],
            "text/plain": [
              "                                                    0\n",
              "0   换书要求客户自己邮寄到北京，光邮费就相当于书费，还有必要换吗，新买一本不更好吗，你们这样的服...\n",
              "0                电池时间短，无线网卡上不去，模板是10寸的，不是8.9的，没有想象中小。\n",
              "0   史上最臭最恶劣最令人无法忍受喇叭的笔记本！越听越想砸！竟然还不如我的索尼爱立信G700C手机...\n",
              "0   这是我住过的最差的酒店。入住的时候房卡搞错，明明只要440（这个价格我也就不说了，根本不值）...\n",
              "0   1、该酒店房间小,我住的标准间很小,很舒服;2、这个酒店是三星级，我认为最多能够上两颗星，属...\n",
              "..                                                ...\n",
              "0                             书非常好，是广州库房特别慢，一个件配货配6天。\n",
              "0   居然不能下载铃声，发回来的短信全是乱码，而且我翻遍了手机说明书都没找到自编铃声在哪．.......\n",
              "0   太差的酒店，里面的很多东西都发黄了，隔壁都是出租给别人办公的。服务态度也不好，找他们件事，他...\n",
              "0   我是11月29日入住,12月1日离店的,由于我本人不慎将新买的皮鞋和一个仪器上的配件忘记在宾...\n",
              "0   1、货源紧张，6月19号下的单，27号才到2、自带的Vista运行实在太慢了，自己又加了1G...\n",
              "\n",
              "[1111 rows x 1 columns]"
            ]
          },
          "execution_count": 33,
          "metadata": {},
          "output_type": "execute_result"
        }
      ],
      "source": [
        "test_df[preds==0]"
      ]
    },
    {
      "cell_type": "code",
      "execution_count": 34,
      "metadata": {},
      "outputs": [
        {
          "name": "stdout",
          "output_type": "stream",
          "text": [
            "Requirement already satisfied: pymysql in c:\\users\\user\\anaconda3\\envs\\bert_edmodel\\lib\\site-packages (1.0.2)\n"
          ]
        }
      ],
      "source": [
        "!pip install pymysql"
      ]
    },
    {
      "cell_type": "code",
      "execution_count": 35,
      "metadata": {},
      "outputs": [],
      "source": [
        "import pymysql\n",
        "db_settings = {\n",
        "    \"host\": \"127.0.0.1\",\n",
        "    \"port\": 3306,\n",
        "    \"user\": \"root\",\n",
        "    \"password\": \"\",\n",
        "    \"db\": \"news\",\n",
        "    \"charset\": \"utf8\"\n",
        "}\n",
        "\n",
        "try:\n",
        "    conn = pymysql.connect(**db_settings)\n",
        "except Exception as ex:\n",
        "    print(ex)\n",
        "    "
      ]
    },
    {
      "cell_type": "code",
      "execution_count": null,
      "metadata": {},
      "outputs": [],
      "source": []
    },
    {
      "cell_type": "code",
      "execution_count": null,
      "metadata": {},
      "outputs": [],
      "source": []
    },
    {
      "cell_type": "code",
      "execution_count": null,
      "metadata": {},
      "outputs": [],
      "source": []
    },
    {
      "cell_type": "code",
      "execution_count": null,
      "metadata": {},
      "outputs": [],
      "source": []
    },
    {
      "cell_type": "code",
      "execution_count": null,
      "metadata": {},
      "outputs": [],
      "source": [
        "def sentiment(newsID: int):\n",
        "    with conn.cursor() as cursor:\n",
        "        sql = 'SELECT comment, likes FROM comments WHERE News_id = ' + newsID\n",
        "        cursor.execute(sql)\n",
        "        result = cursor.fetchall()\n",
        "\n",
        "        count = 0\n",
        "        real_data = []\n",
        "\n",
        "        for row in result:\n",
        "            real_data.append(row[0])\n",
        "            count += 1\n",
        "\n",
        "    df = pd.DataFrame(real_data)\n",
        "\n",
        "    print('Tokenizing data...')\n",
        "    inputs, masks = content_preprocessing(real_data)\n",
        "\n",
        "    # Create the DataLoader for our test set\n",
        "    dataset = TensorDataset(inputs, masks)\n",
        "    sampler = SequentialSampler(dataset)\n",
        "    dataloader = DataLoader(dataset, sampler=sampler, batch_size=32)\n",
        "\n",
        "    # Compute predicted probabilities on the test set\n",
        "    probs = bert_predict(bert_classifier, dataloader)\n",
        "\n",
        "    # Get predictions from the probabilities\n",
        "    threshold = 0.9\n",
        "    preds = np.where(probs[:, 1] > threshold, 1, 0)\n",
        "\n",
        "    # Number of tweets predicted non-negative\n",
        "    print(\"Number of tweets predicted non-negative: \", preds.sum())\n",
        "\n",
        "    pred_df = pd.DataFrame(real_data, preds)\n",
        "    pred_df[preds == 0]\n",
        "\n",
        "    print(preds.sum())\n",
        "\n",
        "    # with conn.cursor() as cursor:\n",
        "    #     sql = 'UPDATE processed_data SET Popularity = %s WHERE News_id = %s AND Provenance = %s'\n",
        "    #     cursor.execute(sql, (str(count), news_id, provenance))\n",
        "    # conn.commit()\n"
      ]
    }
  ],
  "metadata": {
    "accelerator": "GPU",
    "colab": {
      "collapsed_sections": [],
      "name": "情緒分析中文資料處理.ipynb",
      "provenance": []
    },
    "interpreter": {
      "hash": "3c7a819655e9f6c16ec335f8a3abf936bf261f9d6cb538ae0c27bb7ccda00602"
    },
    "kernelspec": {
      "display_name": "Python 3.7.6 64-bit ('Bert_EDModel': conda)",
      "name": "python3"
    },
    "language_info": {
      "codemirror_mode": {
        "name": "ipython",
        "version": 3
      },
      "file_extension": ".py",
      "mimetype": "text/x-python",
      "name": "python",
      "nbconvert_exporter": "python",
      "pygments_lexer": "ipython3",
      "version": "3.7.6"
    },
    "widgets": {
      "application/vnd.jupyter.widget-state+json": {
        "09467284067347f4be86128a7542180e": {
          "model_module": "@jupyter-widgets/controls",
          "model_name": "HTMLModel",
          "state": {
            "_dom_classes": [],
            "_model_module": "@jupyter-widgets/controls",
            "_model_module_version": "1.5.0",
            "_model_name": "HTMLModel",
            "_view_count": null,
            "_view_module": "@jupyter-widgets/controls",
            "_view_module_version": "1.5.0",
            "_view_name": "HTMLView",
            "description": "",
            "description_tooltip": null,
            "layout": "IPY_MODEL_2fdd4d755597404cb40561b183448b44",
            "placeholder": "​",
            "style": "IPY_MODEL_2918ec202de244389e8b99acdf8a18b2",
            "value": " 624/624 [00:00&lt;00:00, 1.47kB/s]"
          }
        },
        "140d1ee2bf274aa48bdd2bdfb7446fbe": {
          "model_module": "@jupyter-widgets/controls",
          "model_name": "DescriptionStyleModel",
          "state": {
            "_model_module": "@jupyter-widgets/controls",
            "_model_module_version": "1.5.0",
            "_model_name": "DescriptionStyleModel",
            "_view_count": null,
            "_view_module": "@jupyter-widgets/base",
            "_view_module_version": "1.2.0",
            "_view_name": "StyleView",
            "description_width": ""
          }
        },
        "2918ec202de244389e8b99acdf8a18b2": {
          "model_module": "@jupyter-widgets/controls",
          "model_name": "DescriptionStyleModel",
          "state": {
            "_model_module": "@jupyter-widgets/controls",
            "_model_module_version": "1.5.0",
            "_model_name": "DescriptionStyleModel",
            "_view_count": null,
            "_view_module": "@jupyter-widgets/base",
            "_view_module_version": "1.2.0",
            "_view_name": "StyleView",
            "description_width": ""
          }
        },
        "2d954e66f02d406b9d1176b728db03f7": {
          "model_module": "@jupyter-widgets/controls",
          "model_name": "HTMLModel",
          "state": {
            "_dom_classes": [],
            "_model_module": "@jupyter-widgets/controls",
            "_model_module_version": "1.5.0",
            "_model_name": "HTMLModel",
            "_view_count": null,
            "_view_module": "@jupyter-widgets/controls",
            "_view_module_version": "1.5.0",
            "_view_name": "HTMLView",
            "description": "",
            "description_tooltip": null,
            "layout": "IPY_MODEL_91b51b6cb29543ad9884320c9ac6ef18",
            "placeholder": "​",
            "style": "IPY_MODEL_ffdf8d5ece7540a2a945c40f5d04aa4e",
            "value": " 110k/110k [00:04&lt;00:00, 23.6kB/s]"
          }
        },
        "2f4be50dba8a4383afa5d9a323a36d5e": {
          "model_module": "@jupyter-widgets/controls",
          "model_name": "HBoxModel",
          "state": {
            "_dom_classes": [],
            "_model_module": "@jupyter-widgets/controls",
            "_model_module_version": "1.5.0",
            "_model_name": "HBoxModel",
            "_view_count": null,
            "_view_module": "@jupyter-widgets/controls",
            "_view_module_version": "1.5.0",
            "_view_name": "HBoxView",
            "box_style": "",
            "children": [
              "IPY_MODEL_40b00083ba52464e824d9ef4540b5844",
              "IPY_MODEL_8715b8bab3d84ca38a507d80edeacbab"
            ],
            "layout": "IPY_MODEL_7775917eb4d7478a899624539186ec8f"
          }
        },
        "2fdd4d755597404cb40561b183448b44": {
          "model_module": "@jupyter-widgets/base",
          "model_name": "LayoutModel",
          "state": {
            "_model_module": "@jupyter-widgets/base",
            "_model_module_version": "1.2.0",
            "_model_name": "LayoutModel",
            "_view_count": null,
            "_view_module": "@jupyter-widgets/base",
            "_view_module_version": "1.2.0",
            "_view_name": "LayoutView",
            "align_content": null,
            "align_items": null,
            "align_self": null,
            "border": null,
            "bottom": null,
            "display": null,
            "flex": null,
            "flex_flow": null,
            "grid_area": null,
            "grid_auto_columns": null,
            "grid_auto_flow": null,
            "grid_auto_rows": null,
            "grid_column": null,
            "grid_gap": null,
            "grid_row": null,
            "grid_template_areas": null,
            "grid_template_columns": null,
            "grid_template_rows": null,
            "height": null,
            "justify_content": null,
            "justify_items": null,
            "left": null,
            "margin": null,
            "max_height": null,
            "max_width": null,
            "min_height": null,
            "min_width": null,
            "object_fit": null,
            "object_position": null,
            "order": null,
            "overflow": null,
            "overflow_x": null,
            "overflow_y": null,
            "padding": null,
            "right": null,
            "top": null,
            "visibility": null,
            "width": null
          }
        },
        "38455a2072a543a9bf0dab0c2b292fa5": {
          "model_module": "@jupyter-widgets/controls",
          "model_name": "FloatProgressModel",
          "state": {
            "_dom_classes": [],
            "_model_module": "@jupyter-widgets/controls",
            "_model_module_version": "1.5.0",
            "_model_name": "FloatProgressModel",
            "_view_count": null,
            "_view_module": "@jupyter-widgets/controls",
            "_view_module_version": "1.5.0",
            "_view_name": "ProgressView",
            "bar_style": "success",
            "description": "Downloading: 100%",
            "description_tooltip": null,
            "layout": "IPY_MODEL_48ce8ab7b1a942efa86ecb940a68ecce",
            "max": 624,
            "min": 0,
            "orientation": "horizontal",
            "style": "IPY_MODEL_8bfd76c13dc74a95a7dfd359e3715c9e",
            "value": 624
          }
        },
        "3da67a929f5f4b5fae8e41d4a60b3062": {
          "model_module": "@jupyter-widgets/controls",
          "model_name": "FloatProgressModel",
          "state": {
            "_dom_classes": [],
            "_model_module": "@jupyter-widgets/controls",
            "_model_module_version": "1.5.0",
            "_model_name": "FloatProgressModel",
            "_view_count": null,
            "_view_module": "@jupyter-widgets/controls",
            "_view_module_version": "1.5.0",
            "_view_name": "ProgressView",
            "bar_style": "success",
            "description": "Downloading: 100%",
            "description_tooltip": null,
            "layout": "IPY_MODEL_af4ff17033f54805b781f9c3d029e049",
            "max": 411577189,
            "min": 0,
            "orientation": "horizontal",
            "style": "IPY_MODEL_ecaade172f204b6bb24a0d08655a2836",
            "value": 411577189
          }
        },
        "40b00083ba52464e824d9ef4540b5844": {
          "model_module": "@jupyter-widgets/controls",
          "model_name": "FloatProgressModel",
          "state": {
            "_dom_classes": [],
            "_model_module": "@jupyter-widgets/controls",
            "_model_module_version": "1.5.0",
            "_model_name": "FloatProgressModel",
            "_view_count": null,
            "_view_module": "@jupyter-widgets/controls",
            "_view_module_version": "1.5.0",
            "_view_name": "ProgressView",
            "bar_style": "success",
            "description": "Downloading: 100%",
            "description_tooltip": null,
            "layout": "IPY_MODEL_e948bbf56876455389ac1bc14ec98c1a",
            "max": 29,
            "min": 0,
            "orientation": "horizontal",
            "style": "IPY_MODEL_eec79d64dc7f4ee1acb26e1f690fa00d",
            "value": 29
          }
        },
        "48ce8ab7b1a942efa86ecb940a68ecce": {
          "model_module": "@jupyter-widgets/base",
          "model_name": "LayoutModel",
          "state": {
            "_model_module": "@jupyter-widgets/base",
            "_model_module_version": "1.2.0",
            "_model_name": "LayoutModel",
            "_view_count": null,
            "_view_module": "@jupyter-widgets/base",
            "_view_module_version": "1.2.0",
            "_view_name": "LayoutView",
            "align_content": null,
            "align_items": null,
            "align_self": null,
            "border": null,
            "bottom": null,
            "display": null,
            "flex": null,
            "flex_flow": null,
            "grid_area": null,
            "grid_auto_columns": null,
            "grid_auto_flow": null,
            "grid_auto_rows": null,
            "grid_column": null,
            "grid_gap": null,
            "grid_row": null,
            "grid_template_areas": null,
            "grid_template_columns": null,
            "grid_template_rows": null,
            "height": null,
            "justify_content": null,
            "justify_items": null,
            "left": null,
            "margin": null,
            "max_height": null,
            "max_width": null,
            "min_height": null,
            "min_width": null,
            "object_fit": null,
            "object_position": null,
            "order": null,
            "overflow": null,
            "overflow_x": null,
            "overflow_y": null,
            "padding": null,
            "right": null,
            "top": null,
            "visibility": null,
            "width": null
          }
        },
        "5297fb2368744d1899b90008211d3f10": {
          "model_module": "@jupyter-widgets/base",
          "model_name": "LayoutModel",
          "state": {
            "_model_module": "@jupyter-widgets/base",
            "_model_module_version": "1.2.0",
            "_model_name": "LayoutModel",
            "_view_count": null,
            "_view_module": "@jupyter-widgets/base",
            "_view_module_version": "1.2.0",
            "_view_name": "LayoutView",
            "align_content": null,
            "align_items": null,
            "align_self": null,
            "border": null,
            "bottom": null,
            "display": null,
            "flex": null,
            "flex_flow": null,
            "grid_area": null,
            "grid_auto_columns": null,
            "grid_auto_flow": null,
            "grid_auto_rows": null,
            "grid_column": null,
            "grid_gap": null,
            "grid_row": null,
            "grid_template_areas": null,
            "grid_template_columns": null,
            "grid_template_rows": null,
            "height": null,
            "justify_content": null,
            "justify_items": null,
            "left": null,
            "margin": null,
            "max_height": null,
            "max_width": null,
            "min_height": null,
            "min_width": null,
            "object_fit": null,
            "object_position": null,
            "order": null,
            "overflow": null,
            "overflow_x": null,
            "overflow_y": null,
            "padding": null,
            "right": null,
            "top": null,
            "visibility": null,
            "width": null
          }
        },
        "68c5784380444764bf752975f5079c99": {
          "model_module": "@jupyter-widgets/controls",
          "model_name": "HTMLModel",
          "state": {
            "_dom_classes": [],
            "_model_module": "@jupyter-widgets/controls",
            "_model_module_version": "1.5.0",
            "_model_name": "HTMLModel",
            "_view_count": null,
            "_view_module": "@jupyter-widgets/controls",
            "_view_module_version": "1.5.0",
            "_view_name": "HTMLView",
            "description": "",
            "description_tooltip": null,
            "layout": "IPY_MODEL_b34035f6a3ab497680f1dd77f4007213",
            "placeholder": "​",
            "style": "IPY_MODEL_140d1ee2bf274aa48bdd2bdfb7446fbe",
            "value": " 269k/269k [00:00&lt;00:00, 940kB/s]"
          }
        },
        "73e45f4364de425aa4225a00f43ca2f7": {
          "model_module": "@jupyter-widgets/base",
          "model_name": "LayoutModel",
          "state": {
            "_model_module": "@jupyter-widgets/base",
            "_model_module_version": "1.2.0",
            "_model_name": "LayoutModel",
            "_view_count": null,
            "_view_module": "@jupyter-widgets/base",
            "_view_module_version": "1.2.0",
            "_view_name": "LayoutView",
            "align_content": null,
            "align_items": null,
            "align_self": null,
            "border": null,
            "bottom": null,
            "display": null,
            "flex": null,
            "flex_flow": null,
            "grid_area": null,
            "grid_auto_columns": null,
            "grid_auto_flow": null,
            "grid_auto_rows": null,
            "grid_column": null,
            "grid_gap": null,
            "grid_row": null,
            "grid_template_areas": null,
            "grid_template_columns": null,
            "grid_template_rows": null,
            "height": null,
            "justify_content": null,
            "justify_items": null,
            "left": null,
            "margin": null,
            "max_height": null,
            "max_width": null,
            "min_height": null,
            "min_width": null,
            "object_fit": null,
            "object_position": null,
            "order": null,
            "overflow": null,
            "overflow_x": null,
            "overflow_y": null,
            "padding": null,
            "right": null,
            "top": null,
            "visibility": null,
            "width": null
          }
        },
        "7775917eb4d7478a899624539186ec8f": {
          "model_module": "@jupyter-widgets/base",
          "model_name": "LayoutModel",
          "state": {
            "_model_module": "@jupyter-widgets/base",
            "_model_module_version": "1.2.0",
            "_model_name": "LayoutModel",
            "_view_count": null,
            "_view_module": "@jupyter-widgets/base",
            "_view_module_version": "1.2.0",
            "_view_name": "LayoutView",
            "align_content": null,
            "align_items": null,
            "align_self": null,
            "border": null,
            "bottom": null,
            "display": null,
            "flex": null,
            "flex_flow": null,
            "grid_area": null,
            "grid_auto_columns": null,
            "grid_auto_flow": null,
            "grid_auto_rows": null,
            "grid_column": null,
            "grid_gap": null,
            "grid_row": null,
            "grid_template_areas": null,
            "grid_template_columns": null,
            "grid_template_rows": null,
            "height": null,
            "justify_content": null,
            "justify_items": null,
            "left": null,
            "margin": null,
            "max_height": null,
            "max_width": null,
            "min_height": null,
            "min_width": null,
            "object_fit": null,
            "object_position": null,
            "order": null,
            "overflow": null,
            "overflow_x": null,
            "overflow_y": null,
            "padding": null,
            "right": null,
            "top": null,
            "visibility": null,
            "width": null
          }
        },
        "783f2dda48584ccfab029ca8f06b15d1": {
          "model_module": "@jupyter-widgets/controls",
          "model_name": "DescriptionStyleModel",
          "state": {
            "_model_module": "@jupyter-widgets/controls",
            "_model_module_version": "1.5.0",
            "_model_name": "DescriptionStyleModel",
            "_view_count": null,
            "_view_module": "@jupyter-widgets/base",
            "_view_module_version": "1.2.0",
            "_view_name": "StyleView",
            "description_width": ""
          }
        },
        "817ba801ffa84cb386fe348663eb473e": {
          "model_module": "@jupyter-widgets/controls",
          "model_name": "HBoxModel",
          "state": {
            "_dom_classes": [],
            "_model_module": "@jupyter-widgets/controls",
            "_model_module_version": "1.5.0",
            "_model_name": "HBoxModel",
            "_view_count": null,
            "_view_module": "@jupyter-widgets/controls",
            "_view_module_version": "1.5.0",
            "_view_name": "HBoxView",
            "box_style": "",
            "children": [
              "IPY_MODEL_a7fefaa31f6f45eeb8fe243f21516a5d",
              "IPY_MODEL_2d954e66f02d406b9d1176b728db03f7"
            ],
            "layout": "IPY_MODEL_73e45f4364de425aa4225a00f43ca2f7"
          }
        },
        "86c8beebe7f8412cb5feb3bdd1052a50": {
          "model_module": "@jupyter-widgets/base",
          "model_name": "LayoutModel",
          "state": {
            "_model_module": "@jupyter-widgets/base",
            "_model_module_version": "1.2.0",
            "_model_name": "LayoutModel",
            "_view_count": null,
            "_view_module": "@jupyter-widgets/base",
            "_view_module_version": "1.2.0",
            "_view_name": "LayoutView",
            "align_content": null,
            "align_items": null,
            "align_self": null,
            "border": null,
            "bottom": null,
            "display": null,
            "flex": null,
            "flex_flow": null,
            "grid_area": null,
            "grid_auto_columns": null,
            "grid_auto_flow": null,
            "grid_auto_rows": null,
            "grid_column": null,
            "grid_gap": null,
            "grid_row": null,
            "grid_template_areas": null,
            "grid_template_columns": null,
            "grid_template_rows": null,
            "height": null,
            "justify_content": null,
            "justify_items": null,
            "left": null,
            "margin": null,
            "max_height": null,
            "max_width": null,
            "min_height": null,
            "min_width": null,
            "object_fit": null,
            "object_position": null,
            "order": null,
            "overflow": null,
            "overflow_x": null,
            "overflow_y": null,
            "padding": null,
            "right": null,
            "top": null,
            "visibility": null,
            "width": null
          }
        },
        "8715b8bab3d84ca38a507d80edeacbab": {
          "model_module": "@jupyter-widgets/controls",
          "model_name": "HTMLModel",
          "state": {
            "_dom_classes": [],
            "_model_module": "@jupyter-widgets/controls",
            "_model_module_version": "1.5.0",
            "_model_name": "HTMLModel",
            "_view_count": null,
            "_view_module": "@jupyter-widgets/controls",
            "_view_module_version": "1.5.0",
            "_view_name": "HTMLView",
            "description": "",
            "description_tooltip": null,
            "layout": "IPY_MODEL_5297fb2368744d1899b90008211d3f10",
            "placeholder": "​",
            "style": "IPY_MODEL_fd7525f1682b410aa624042dd09950f7",
            "value": " 29.0/29.0 [00:00&lt;00:00, 38.7B/s]"
          }
        },
        "8bfd76c13dc74a95a7dfd359e3715c9e": {
          "model_module": "@jupyter-widgets/controls",
          "model_name": "ProgressStyleModel",
          "state": {
            "_model_module": "@jupyter-widgets/controls",
            "_model_module_version": "1.5.0",
            "_model_name": "ProgressStyleModel",
            "_view_count": null,
            "_view_module": "@jupyter-widgets/base",
            "_view_module_version": "1.2.0",
            "_view_name": "StyleView",
            "bar_color": null,
            "description_width": "initial"
          }
        },
        "91b51b6cb29543ad9884320c9ac6ef18": {
          "model_module": "@jupyter-widgets/base",
          "model_name": "LayoutModel",
          "state": {
            "_model_module": "@jupyter-widgets/base",
            "_model_module_version": "1.2.0",
            "_model_name": "LayoutModel",
            "_view_count": null,
            "_view_module": "@jupyter-widgets/base",
            "_view_module_version": "1.2.0",
            "_view_name": "LayoutView",
            "align_content": null,
            "align_items": null,
            "align_self": null,
            "border": null,
            "bottom": null,
            "display": null,
            "flex": null,
            "flex_flow": null,
            "grid_area": null,
            "grid_auto_columns": null,
            "grid_auto_flow": null,
            "grid_auto_rows": null,
            "grid_column": null,
            "grid_gap": null,
            "grid_row": null,
            "grid_template_areas": null,
            "grid_template_columns": null,
            "grid_template_rows": null,
            "height": null,
            "justify_content": null,
            "justify_items": null,
            "left": null,
            "margin": null,
            "max_height": null,
            "max_width": null,
            "min_height": null,
            "min_width": null,
            "object_fit": null,
            "object_position": null,
            "order": null,
            "overflow": null,
            "overflow_x": null,
            "overflow_y": null,
            "padding": null,
            "right": null,
            "top": null,
            "visibility": null,
            "width": null
          }
        },
        "950ea0f947204682b9c0834cf24e41eb": {
          "model_module": "@jupyter-widgets/base",
          "model_name": "LayoutModel",
          "state": {
            "_model_module": "@jupyter-widgets/base",
            "_model_module_version": "1.2.0",
            "_model_name": "LayoutModel",
            "_view_count": null,
            "_view_module": "@jupyter-widgets/base",
            "_view_module_version": "1.2.0",
            "_view_name": "LayoutView",
            "align_content": null,
            "align_items": null,
            "align_self": null,
            "border": null,
            "bottom": null,
            "display": null,
            "flex": null,
            "flex_flow": null,
            "grid_area": null,
            "grid_auto_columns": null,
            "grid_auto_flow": null,
            "grid_auto_rows": null,
            "grid_column": null,
            "grid_gap": null,
            "grid_row": null,
            "grid_template_areas": null,
            "grid_template_columns": null,
            "grid_template_rows": null,
            "height": null,
            "justify_content": null,
            "justify_items": null,
            "left": null,
            "margin": null,
            "max_height": null,
            "max_width": null,
            "min_height": null,
            "min_width": null,
            "object_fit": null,
            "object_position": null,
            "order": null,
            "overflow": null,
            "overflow_x": null,
            "overflow_y": null,
            "padding": null,
            "right": null,
            "top": null,
            "visibility": null,
            "width": null
          }
        },
        "99846100b51345c595c3618f574397d6": {
          "model_module": "@jupyter-widgets/controls",
          "model_name": "HTMLModel",
          "state": {
            "_dom_classes": [],
            "_model_module": "@jupyter-widgets/controls",
            "_model_module_version": "1.5.0",
            "_model_name": "HTMLModel",
            "_view_count": null,
            "_view_module": "@jupyter-widgets/controls",
            "_view_module_version": "1.5.0",
            "_view_name": "HTMLView",
            "description": "",
            "description_tooltip": null,
            "layout": "IPY_MODEL_f3b0a9942b6f400eba4406f708dbbdb0",
            "placeholder": "​",
            "style": "IPY_MODEL_783f2dda48584ccfab029ca8f06b15d1",
            "value": " 412M/412M [00:17&lt;00:00, 23.4MB/s]"
          }
        },
        "a7fefaa31f6f45eeb8fe243f21516a5d": {
          "model_module": "@jupyter-widgets/controls",
          "model_name": "FloatProgressModel",
          "state": {
            "_dom_classes": [],
            "_model_module": "@jupyter-widgets/controls",
            "_model_module_version": "1.5.0",
            "_model_name": "FloatProgressModel",
            "_view_count": null,
            "_view_module": "@jupyter-widgets/controls",
            "_view_module_version": "1.5.0",
            "_view_name": "ProgressView",
            "bar_style": "success",
            "description": "Downloading: 100%",
            "description_tooltip": null,
            "layout": "IPY_MODEL_b5583082c1964e89828e463b0be4b39f",
            "max": 109540,
            "min": 0,
            "orientation": "horizontal",
            "style": "IPY_MODEL_d5dee52a843f48f9aede26fe5103fb8c",
            "value": 109540
          }
        },
        "af4ff17033f54805b781f9c3d029e049": {
          "model_module": "@jupyter-widgets/base",
          "model_name": "LayoutModel",
          "state": {
            "_model_module": "@jupyter-widgets/base",
            "_model_module_version": "1.2.0",
            "_model_name": "LayoutModel",
            "_view_count": null,
            "_view_module": "@jupyter-widgets/base",
            "_view_module_version": "1.2.0",
            "_view_name": "LayoutView",
            "align_content": null,
            "align_items": null,
            "align_self": null,
            "border": null,
            "bottom": null,
            "display": null,
            "flex": null,
            "flex_flow": null,
            "grid_area": null,
            "grid_auto_columns": null,
            "grid_auto_flow": null,
            "grid_auto_rows": null,
            "grid_column": null,
            "grid_gap": null,
            "grid_row": null,
            "grid_template_areas": null,
            "grid_template_columns": null,
            "grid_template_rows": null,
            "height": null,
            "justify_content": null,
            "justify_items": null,
            "left": null,
            "margin": null,
            "max_height": null,
            "max_width": null,
            "min_height": null,
            "min_width": null,
            "object_fit": null,
            "object_position": null,
            "order": null,
            "overflow": null,
            "overflow_x": null,
            "overflow_y": null,
            "padding": null,
            "right": null,
            "top": null,
            "visibility": null,
            "width": null
          }
        },
        "b34035f6a3ab497680f1dd77f4007213": {
          "model_module": "@jupyter-widgets/base",
          "model_name": "LayoutModel",
          "state": {
            "_model_module": "@jupyter-widgets/base",
            "_model_module_version": "1.2.0",
            "_model_name": "LayoutModel",
            "_view_count": null,
            "_view_module": "@jupyter-widgets/base",
            "_view_module_version": "1.2.0",
            "_view_name": "LayoutView",
            "align_content": null,
            "align_items": null,
            "align_self": null,
            "border": null,
            "bottom": null,
            "display": null,
            "flex": null,
            "flex_flow": null,
            "grid_area": null,
            "grid_auto_columns": null,
            "grid_auto_flow": null,
            "grid_auto_rows": null,
            "grid_column": null,
            "grid_gap": null,
            "grid_row": null,
            "grid_template_areas": null,
            "grid_template_columns": null,
            "grid_template_rows": null,
            "height": null,
            "justify_content": null,
            "justify_items": null,
            "left": null,
            "margin": null,
            "max_height": null,
            "max_width": null,
            "min_height": null,
            "min_width": null,
            "object_fit": null,
            "object_position": null,
            "order": null,
            "overflow": null,
            "overflow_x": null,
            "overflow_y": null,
            "padding": null,
            "right": null,
            "top": null,
            "visibility": null,
            "width": null
          }
        },
        "b5583082c1964e89828e463b0be4b39f": {
          "model_module": "@jupyter-widgets/base",
          "model_name": "LayoutModel",
          "state": {
            "_model_module": "@jupyter-widgets/base",
            "_model_module_version": "1.2.0",
            "_model_name": "LayoutModel",
            "_view_count": null,
            "_view_module": "@jupyter-widgets/base",
            "_view_module_version": "1.2.0",
            "_view_name": "LayoutView",
            "align_content": null,
            "align_items": null,
            "align_self": null,
            "border": null,
            "bottom": null,
            "display": null,
            "flex": null,
            "flex_flow": null,
            "grid_area": null,
            "grid_auto_columns": null,
            "grid_auto_flow": null,
            "grid_auto_rows": null,
            "grid_column": null,
            "grid_gap": null,
            "grid_row": null,
            "grid_template_areas": null,
            "grid_template_columns": null,
            "grid_template_rows": null,
            "height": null,
            "justify_content": null,
            "justify_items": null,
            "left": null,
            "margin": null,
            "max_height": null,
            "max_width": null,
            "min_height": null,
            "min_width": null,
            "object_fit": null,
            "object_position": null,
            "order": null,
            "overflow": null,
            "overflow_x": null,
            "overflow_y": null,
            "padding": null,
            "right": null,
            "top": null,
            "visibility": null,
            "width": null
          }
        },
        "b6190faec7e1404e96c143e94136f361": {
          "model_module": "@jupyter-widgets/controls",
          "model_name": "ProgressStyleModel",
          "state": {
            "_model_module": "@jupyter-widgets/controls",
            "_model_module_version": "1.5.0",
            "_model_name": "ProgressStyleModel",
            "_view_count": null,
            "_view_module": "@jupyter-widgets/base",
            "_view_module_version": "1.2.0",
            "_view_name": "StyleView",
            "bar_color": null,
            "description_width": "initial"
          }
        },
        "c114756367884830828b12fb7a257bd8": {
          "model_module": "@jupyter-widgets/base",
          "model_name": "LayoutModel",
          "state": {
            "_model_module": "@jupyter-widgets/base",
            "_model_module_version": "1.2.0",
            "_model_name": "LayoutModel",
            "_view_count": null,
            "_view_module": "@jupyter-widgets/base",
            "_view_module_version": "1.2.0",
            "_view_name": "LayoutView",
            "align_content": null,
            "align_items": null,
            "align_self": null,
            "border": null,
            "bottom": null,
            "display": null,
            "flex": null,
            "flex_flow": null,
            "grid_area": null,
            "grid_auto_columns": null,
            "grid_auto_flow": null,
            "grid_auto_rows": null,
            "grid_column": null,
            "grid_gap": null,
            "grid_row": null,
            "grid_template_areas": null,
            "grid_template_columns": null,
            "grid_template_rows": null,
            "height": null,
            "justify_content": null,
            "justify_items": null,
            "left": null,
            "margin": null,
            "max_height": null,
            "max_width": null,
            "min_height": null,
            "min_width": null,
            "object_fit": null,
            "object_position": null,
            "order": null,
            "overflow": null,
            "overflow_x": null,
            "overflow_y": null,
            "padding": null,
            "right": null,
            "top": null,
            "visibility": null,
            "width": null
          }
        },
        "c1cf1e56ecbd414db8f3b3d79eaf643e": {
          "model_module": "@jupyter-widgets/controls",
          "model_name": "HBoxModel",
          "state": {
            "_dom_classes": [],
            "_model_module": "@jupyter-widgets/controls",
            "_model_module_version": "1.5.0",
            "_model_name": "HBoxModel",
            "_view_count": null,
            "_view_module": "@jupyter-widgets/controls",
            "_view_module_version": "1.5.0",
            "_view_name": "HBoxView",
            "box_style": "",
            "children": [
              "IPY_MODEL_38455a2072a543a9bf0dab0c2b292fa5",
              "IPY_MODEL_09467284067347f4be86128a7542180e"
            ],
            "layout": "IPY_MODEL_950ea0f947204682b9c0834cf24e41eb"
          }
        },
        "cab9e6fc42934ddd8772129096ac5544": {
          "model_module": "@jupyter-widgets/controls",
          "model_name": "FloatProgressModel",
          "state": {
            "_dom_classes": [],
            "_model_module": "@jupyter-widgets/controls",
            "_model_module_version": "1.5.0",
            "_model_name": "FloatProgressModel",
            "_view_count": null,
            "_view_module": "@jupyter-widgets/controls",
            "_view_module_version": "1.5.0",
            "_view_name": "ProgressView",
            "bar_style": "success",
            "description": "Downloading: 100%",
            "description_tooltip": null,
            "layout": "IPY_MODEL_c114756367884830828b12fb7a257bd8",
            "max": 268943,
            "min": 0,
            "orientation": "horizontal",
            "style": "IPY_MODEL_b6190faec7e1404e96c143e94136f361",
            "value": 268943
          }
        },
        "d2b3dd96fef741c8946879bc6f24399f": {
          "model_module": "@jupyter-widgets/controls",
          "model_name": "HBoxModel",
          "state": {
            "_dom_classes": [],
            "_model_module": "@jupyter-widgets/controls",
            "_model_module_version": "1.5.0",
            "_model_name": "HBoxModel",
            "_view_count": null,
            "_view_module": "@jupyter-widgets/controls",
            "_view_module_version": "1.5.0",
            "_view_name": "HBoxView",
            "box_style": "",
            "children": [
              "IPY_MODEL_3da67a929f5f4b5fae8e41d4a60b3062",
              "IPY_MODEL_99846100b51345c595c3618f574397d6"
            ],
            "layout": "IPY_MODEL_f94f676d60ce46d0bd5fea2f556b95fb"
          }
        },
        "d5dee52a843f48f9aede26fe5103fb8c": {
          "model_module": "@jupyter-widgets/controls",
          "model_name": "ProgressStyleModel",
          "state": {
            "_model_module": "@jupyter-widgets/controls",
            "_model_module_version": "1.5.0",
            "_model_name": "ProgressStyleModel",
            "_view_count": null,
            "_view_module": "@jupyter-widgets/base",
            "_view_module_version": "1.2.0",
            "_view_name": "StyleView",
            "bar_color": null,
            "description_width": "initial"
          }
        },
        "d7d3932423f84f158d53182365812e04": {
          "model_module": "@jupyter-widgets/controls",
          "model_name": "HBoxModel",
          "state": {
            "_dom_classes": [],
            "_model_module": "@jupyter-widgets/controls",
            "_model_module_version": "1.5.0",
            "_model_name": "HBoxModel",
            "_view_count": null,
            "_view_module": "@jupyter-widgets/controls",
            "_view_module_version": "1.5.0",
            "_view_name": "HBoxView",
            "box_style": "",
            "children": [
              "IPY_MODEL_cab9e6fc42934ddd8772129096ac5544",
              "IPY_MODEL_68c5784380444764bf752975f5079c99"
            ],
            "layout": "IPY_MODEL_86c8beebe7f8412cb5feb3bdd1052a50"
          }
        },
        "e948bbf56876455389ac1bc14ec98c1a": {
          "model_module": "@jupyter-widgets/base",
          "model_name": "LayoutModel",
          "state": {
            "_model_module": "@jupyter-widgets/base",
            "_model_module_version": "1.2.0",
            "_model_name": "LayoutModel",
            "_view_count": null,
            "_view_module": "@jupyter-widgets/base",
            "_view_module_version": "1.2.0",
            "_view_name": "LayoutView",
            "align_content": null,
            "align_items": null,
            "align_self": null,
            "border": null,
            "bottom": null,
            "display": null,
            "flex": null,
            "flex_flow": null,
            "grid_area": null,
            "grid_auto_columns": null,
            "grid_auto_flow": null,
            "grid_auto_rows": null,
            "grid_column": null,
            "grid_gap": null,
            "grid_row": null,
            "grid_template_areas": null,
            "grid_template_columns": null,
            "grid_template_rows": null,
            "height": null,
            "justify_content": null,
            "justify_items": null,
            "left": null,
            "margin": null,
            "max_height": null,
            "max_width": null,
            "min_height": null,
            "min_width": null,
            "object_fit": null,
            "object_position": null,
            "order": null,
            "overflow": null,
            "overflow_x": null,
            "overflow_y": null,
            "padding": null,
            "right": null,
            "top": null,
            "visibility": null,
            "width": null
          }
        },
        "ecaade172f204b6bb24a0d08655a2836": {
          "model_module": "@jupyter-widgets/controls",
          "model_name": "ProgressStyleModel",
          "state": {
            "_model_module": "@jupyter-widgets/controls",
            "_model_module_version": "1.5.0",
            "_model_name": "ProgressStyleModel",
            "_view_count": null,
            "_view_module": "@jupyter-widgets/base",
            "_view_module_version": "1.2.0",
            "_view_name": "StyleView",
            "bar_color": null,
            "description_width": "initial"
          }
        },
        "eec79d64dc7f4ee1acb26e1f690fa00d": {
          "model_module": "@jupyter-widgets/controls",
          "model_name": "ProgressStyleModel",
          "state": {
            "_model_module": "@jupyter-widgets/controls",
            "_model_module_version": "1.5.0",
            "_model_name": "ProgressStyleModel",
            "_view_count": null,
            "_view_module": "@jupyter-widgets/base",
            "_view_module_version": "1.2.0",
            "_view_name": "StyleView",
            "bar_color": null,
            "description_width": "initial"
          }
        },
        "f3b0a9942b6f400eba4406f708dbbdb0": {
          "model_module": "@jupyter-widgets/base",
          "model_name": "LayoutModel",
          "state": {
            "_model_module": "@jupyter-widgets/base",
            "_model_module_version": "1.2.0",
            "_model_name": "LayoutModel",
            "_view_count": null,
            "_view_module": "@jupyter-widgets/base",
            "_view_module_version": "1.2.0",
            "_view_name": "LayoutView",
            "align_content": null,
            "align_items": null,
            "align_self": null,
            "border": null,
            "bottom": null,
            "display": null,
            "flex": null,
            "flex_flow": null,
            "grid_area": null,
            "grid_auto_columns": null,
            "grid_auto_flow": null,
            "grid_auto_rows": null,
            "grid_column": null,
            "grid_gap": null,
            "grid_row": null,
            "grid_template_areas": null,
            "grid_template_columns": null,
            "grid_template_rows": null,
            "height": null,
            "justify_content": null,
            "justify_items": null,
            "left": null,
            "margin": null,
            "max_height": null,
            "max_width": null,
            "min_height": null,
            "min_width": null,
            "object_fit": null,
            "object_position": null,
            "order": null,
            "overflow": null,
            "overflow_x": null,
            "overflow_y": null,
            "padding": null,
            "right": null,
            "top": null,
            "visibility": null,
            "width": null
          }
        },
        "f94f676d60ce46d0bd5fea2f556b95fb": {
          "model_module": "@jupyter-widgets/base",
          "model_name": "LayoutModel",
          "state": {
            "_model_module": "@jupyter-widgets/base",
            "_model_module_version": "1.2.0",
            "_model_name": "LayoutModel",
            "_view_count": null,
            "_view_module": "@jupyter-widgets/base",
            "_view_module_version": "1.2.0",
            "_view_name": "LayoutView",
            "align_content": null,
            "align_items": null,
            "align_self": null,
            "border": null,
            "bottom": null,
            "display": null,
            "flex": null,
            "flex_flow": null,
            "grid_area": null,
            "grid_auto_columns": null,
            "grid_auto_flow": null,
            "grid_auto_rows": null,
            "grid_column": null,
            "grid_gap": null,
            "grid_row": null,
            "grid_template_areas": null,
            "grid_template_columns": null,
            "grid_template_rows": null,
            "height": null,
            "justify_content": null,
            "justify_items": null,
            "left": null,
            "margin": null,
            "max_height": null,
            "max_width": null,
            "min_height": null,
            "min_width": null,
            "object_fit": null,
            "object_position": null,
            "order": null,
            "overflow": null,
            "overflow_x": null,
            "overflow_y": null,
            "padding": null,
            "right": null,
            "top": null,
            "visibility": null,
            "width": null
          }
        },
        "fd7525f1682b410aa624042dd09950f7": {
          "model_module": "@jupyter-widgets/controls",
          "model_name": "DescriptionStyleModel",
          "state": {
            "_model_module": "@jupyter-widgets/controls",
            "_model_module_version": "1.5.0",
            "_model_name": "DescriptionStyleModel",
            "_view_count": null,
            "_view_module": "@jupyter-widgets/base",
            "_view_module_version": "1.2.0",
            "_view_name": "StyleView",
            "description_width": ""
          }
        },
        "ffdf8d5ece7540a2a945c40f5d04aa4e": {
          "model_module": "@jupyter-widgets/controls",
          "model_name": "DescriptionStyleModel",
          "state": {
            "_model_module": "@jupyter-widgets/controls",
            "_model_module_version": "1.5.0",
            "_model_name": "DescriptionStyleModel",
            "_view_count": null,
            "_view_module": "@jupyter-widgets/base",
            "_view_module_version": "1.2.0",
            "_view_name": "StyleView",
            "description_width": ""
          }
        }
      }
    }
  },
  "nbformat": 4,
  "nbformat_minor": 2
}
