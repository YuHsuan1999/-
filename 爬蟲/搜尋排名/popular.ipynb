{
 "metadata": {
  "language_info": {
   "codemirror_mode": {
    "name": "ipython",
    "version": 3
   },
   "file_extension": ".py",
   "mimetype": "text/x-python",
   "name": "python",
   "nbconvert_exporter": "python",
   "pygments_lexer": "ipython3",
   "version": "3.7.6"
  },
  "orig_nbformat": 4,
  "kernelspec": {
   "name": "python3",
   "display_name": "Python 3.7.6 64-bit ('Bert_EDModel': conda)"
  },
  "interpreter": {
   "hash": "3c7a819655e9f6c16ec335f8a3abf936bf261f9d6cb538ae0c27bb7ccda00602"
  }
 },
 "nbformat": 4,
 "nbformat_minor": 2,
 "cells": [
  {
   "cell_type": "code",
   "execution_count": 3,
   "source": [
    "import mysql\r\n",
    "from mysql import connect_mysql\r\n",
    "import time\r\n",
    "import datetime\r\n",
    "\r\n",
    "conn = connect_mysql()"
   ],
   "outputs": [],
   "metadata": {}
  },
  {
   "cell_type": "code",
   "execution_count": 4,
   "source": [
    "today = datetime.date.today()\r\n",
    "delta = datetime.timedelta(days=-1)\r\n",
    "print(today + delta)\r\n",
    "yesterday = today+delta"
   ],
   "outputs": [
    {
     "output_type": "stream",
     "name": "stdout",
     "text": [
      "2021-09-06\n"
     ]
    }
   ],
   "metadata": {}
  },
  {
   "cell_type": "code",
   "execution_count": 5,
   "source": [
    "with conn.cursor() as cursor:\r\n",
    "    command = 'SELECT news_id, Provenance FROM original WHERE date > %s'\r\n",
    "    cursor.execute(command, (yesterday))\r\n",
    "\r\n",
    "    result = cursor.fetchall()\r\n",
    "\r\n",
    "for row in result:\r\n",
    "    #print(row)\r\n",
    "    with conn.cursor() as cursor:\r\n",
    "        command = 'SELECT * FROM keywords WHERE news_id = %s and Provenance = %s'\r\n",
    "        cursor.execute(command, (str(row[0]), row[1]))\r\n",
    "\r\n",
    "        result2 = cursor.fetchall()\r\n",
    "        check = None\r\n",
    "        for row2 in result2:\r\n",
    "            check = row2[0]\r\n",
    "            #print(check)\r\n",
    "            if(check != None):\r\n",
    "                print(row2[0])\r\n",
    "                print(row2[1] + row2[2])\r\n",
    "\r\n"
   ],
   "outputs": [],
   "metadata": {}
  },
  {
   "cell_type": "code",
   "execution_count": null,
   "source": [
    "#每過一天熱門度就打7折\r\n",
    "\r\n"
   ],
   "outputs": [],
   "metadata": {}
  }
 ]
}