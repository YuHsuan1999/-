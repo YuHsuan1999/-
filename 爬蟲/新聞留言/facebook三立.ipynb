{
 "metadata": {
  "language_info": {
   "codemirror_mode": {
    "name": "ipython",
    "version": 3
   },
   "file_extension": ".py",
   "mimetype": "text/x-python",
   "name": "python",
   "nbconvert_exporter": "python",
   "pygments_lexer": "ipython3",
   "version": "3.7.6"
  },
  "orig_nbformat": 2,
  "kernelspec": {
   "name": "python3",
   "display_name": "Python 3.7.6 64-bit ('Bert_EDModel': conda)"
  },
  "interpreter": {
   "hash": "3c7a819655e9f6c16ec335f8a3abf936bf261f9d6cb538ae0c27bb7ccda00602"
  }
 },
 "nbformat": 4,
 "nbformat_minor": 2,
 "cells": [
  {
   "cell_type": "code",
   "execution_count": 1,
   "source": [
    "from selenium import webdriver\r\n",
    "import mysql\r\n",
    "import time\r\n",
    "from bs4 import BeautifulSoup as bs\r\n",
    "import getNews\r\n",
    "from selenium.common.exceptions import NoSuchElementException\r\n",
    "from selenium.common.exceptions import StaleElementReferenceException\r\n",
    "from selenium.common.exceptions import WebDriverException"
   ],
   "outputs": [],
   "metadata": {}
  },
  {
   "cell_type": "code",
   "execution_count": 4,
   "source": [
    "path = r'C:\\Users\\USER\\Downloads\\chromedriver_win32\\\\chromedriver.exe'\r\n",
    "driver = webdriver.Chrome(path)\r\n",
    "driver.maximize_window()\r\n",
    "conn = mysql.connect_mysql()"
   ],
   "outputs": [],
   "metadata": {}
  },
  {
   "cell_type": "code",
   "execution_count": 5,
   "source": [
    "driver.get(\"https://www.facebook.com/\")\r\n",
    "print(driver.title)"
   ],
   "outputs": [
    {
     "output_type": "stream",
     "name": "stdout",
     "text": [
      "Facebook - 登入或註冊\n"
     ]
    }
   ],
   "metadata": {}
  },
  {
   "cell_type": "code",
   "execution_count": 6,
   "source": [
    "# 登入\r\n",
    "time.sleep(1)\r\n",
    "username = driver.find_element_by_id('email')\r\n",
    "username.send_keys('annie881112@yahoo.com.tw')\r\n",
    "\r\n",
    "password = driver.find_element_by_id('pass')\r\n",
    "password.send_keys('annie1329')\r\n",
    "\r\n",
    "button = driver.find_element_by_name('login')\r\n",
    "button.click()"
   ],
   "outputs": [],
   "metadata": {}
  },
  {
   "cell_type": "code",
   "execution_count": 7,
   "source": [
    "# 跳到三立新聞頁面\r\n",
    "time.sleep(2)\r\n",
    "driver.get(\"https://www.facebook.com/setnews\")\r\n",
    "print(driver.title)"
   ],
   "outputs": [
    {
     "output_type": "stream",
     "name": "stdout",
     "text": [
      "(1) 三立新聞 | Facebook\n"
     ]
    }
   ],
   "metadata": {}
  },
  {
   "cell_type": "code",
   "execution_count": 8,
   "source": [
    "count = 0\r\n",
    "time.sleep(1)\r\n",
    "i = 0\r\n",
    "while(True and count < 10):\r\n",
    "    try:\r\n",
    "        time.sleep(0.5)\r\n",
    "        content_more = driver.find_element_by_xpath(\"//div[@class='j83agx80 buofh1pr jklb3kyz l9j0dhe7']\")\r\n",
    "        content_more.click()\r\n",
    "        count += 1\r\n",
    "        time.sleep(0.5)\r\n",
    "        \r\n",
    "    except StaleElementReferenceException:\r\n",
    "        content_more = driver.find_element_by_xpath(\"//div[@class='j83agx80 buofh1pr jklb3kyz l9j0dhe7']\")\r\n",
    "        content_more.click()\r\n",
    "        count += 1\r\n",
    "        time.sleep(0.5)\r\n",
    "\r\n",
    "    except NoSuchElementException:\r\n",
    "        print('scroll down window')\r\n",
    "        driver.execute_script(\"window.scrollTo(0, document.body.scrollHeight);\")\r\n",
    "        time.sleep(0.5)\r\n",
    "    \r\n",
    "    except WebDriverException:\r\n",
    "        break\r\n"
   ],
   "outputs": [],
   "metadata": {}
  },
  {
   "cell_type": "code",
   "execution_count": 9,
   "source": [
    "all = [] #存放所有留言\r\n",
    "url = \"\"\r\n",
    "soup = bs(driver.page_source, 'html.parser')\r\n",
    "newsblock = soup.find_all(\"div\", {\"class\": \"du4w35lb k4urcfbm l9j0dhe7 sjgh65i0\"})   # 每個新聞的block\r\n",
    "x = 0\r\n",
    "for detial in newsblock:\r\n",
    "    \r\n",
    "    print('\\n\\n=================================================')\r\n",
    "    url = detial.find('div', {'class': 'rq0escxv l9j0dhe7 du4w35lb hybvsw6c io0zqebd m5lcvass fbipl8qg nwvqtn77 k4urcfbm ni8dbmo4 stjgntxs sbcfpzgs'})\r\n",
    "    #url = url.find('div', {'class': 'stjgntxs ni8dbmo4'})\r\n",
    "    #print(url)\r\n",
    "    url = url.find('a', {'oajrlxb2 g5ia77u1 qu0x051f esr5mh6w e9989ue4 r7d6kgcz rq0escxv nhd2j8a9 a8c37x1j p7hjln8o kvgmc6g5 cxmmr5t8 oygrvhab hcukyx3x jb3vyjys rz4wbd8a qt6c0cv9 a8nywdso i1ao9s8h esuyzwwr f1sip0of lzcic4wl gmql0nx0 p8dawk7l'})\r\n",
    "    newsID = ''\r\n",
    "    if(url != None):\r\n",
    "        url = url['href']\r\n",
    "        #print(url)\r\n",
    "        if('NewsID%3D' in url):\r\n",
    "            newsID = url.split('NewsID%3D')[1]\r\n",
    "            newsID = newsID.split('%')[0]\r\n",
    "            print('newID: ' + newsID)\r\n",
    "    \r\n",
    "    # 確認該新聞是否在DB中\r\n",
    "    with conn.cursor() as cursor:\r\n",
    "      sql = 'SELECT News_id FROM original WHERE News_id = %s AND Provenance = \\'三立\\''\r\n",
    "      cursor.execute(sql, (newsID))\r\n",
    "      result = cursor.fetchall()\r\n",
    "      check_news = None\r\n",
    "      for row in result:\r\n",
    "        check_news = row[0]\r\n",
    "\r\n",
    "    if(check_news == None and url != None and newsID != ''):     #該新聞有連結且不在DB中\r\n",
    "        getNews.SETN(newsID)\r\n",
    "        \r\n",
    "    elif(check_news == None):\r\n",
    "        continue\r\n",
    "\r\n",
    "    # -------------------------------------------------------------------------------\r\n",
    "    print('\\n留言：')\r\n",
    "    comments = detial.find_all('div', {'class': 'ecm0bbzt e5nlhep0 a8c37x1j'})\r\n",
    "    for i in comments:\r\n",
    "        comment = \"\"\r\n",
    "        for j in i.find_all('div', {'class': 'kvgmc6g5 cxmmr5t8 oygrvhab hcukyx3x c1et5uql'}):         #每則留言\r\n",
    "            x += 1\r\n",
    "            for k in j.find_all('div'):         #每一行，可能包含標註人名\r\n",
    "                temp = k.find('a')\r\n",
    "                if(temp != None):       #有人名\r\n",
    "                    temp = temp.text\r\n",
    "                    comment += (k.text.split(temp))[1]\r\n",
    "                else:           #沒人名\r\n",
    "                    comment += (k.text + '。')\r\n",
    "            print(comment)\r\n",
    "\r\n",
    "            # 確認該留言是否在DB中\r\n",
    "            with conn.cursor() as cursor:\r\n",
    "                sql = 'SELECT * FROM comments WHERE News_id = %s AND Provenance = \\'三立\\' AND comment = %s'\r\n",
    "                cursor.execute(sql, (newsID, comment))\r\n",
    "                result = cursor.fetchall()\r\n",
    "                check_comment = None\r\n",
    "                for row in result:\r\n",
    "                    check_comment = row[0]\r\n",
    "    \r\n",
    "            if(check_comment != None):\r\n",
    "                break\r\n",
    "\r\n",
    "            # 將留言新增至資料庫中\r\n",
    "            with conn.cursor() as cursor:\r\n",
    "                # 新增資料SQL語法\r\n",
    "                command = 'INSERT INTO comments(News_id, Provenance, Comment) VALUES(%s, %s, %s)'\r\n",
    "                cursor.execute(command, (newsID, '三立', comment))\r\n",
    "                # 儲存變更\r\n",
    "            conn.commit()\r\n",
    "        \r\n",
    "        print('----------------------------------------------\\n')\r\n",
    "\r\n",
    "print(x)\r\n",
    "driver.quit()"
   ],
   "outputs": [
    {
     "output_type": "stream",
     "name": "stdout",
     "text": [
      "\n",
      "\n",
      "=================================================\n",
      "\n",
      "\n",
      "=================================================\n",
      "newID: 996908\n",
      "Not in the DB！！！！！！！！！！！\n",
      "\n",
      "快訊／驚險畫面曝！南投見歇性大雨　4樓高樟樹倒險砸車\n",
      "三立 996908 生活\n",
      "2021/09/12 15:36:00\n",
      "\n",
      "留言：\n",
      "\n",
      "\n",
      "=================================================\n",
      "\n",
      "\n",
      "=================================================\n",
      "\n",
      "\n",
      "=================================================\n",
      "newID: 996907\n",
      "Not in the DB！！！！！！！！！！！\n",
      "\n",
      "快訊／幼兒園群聚燒進桃園！「北桃通勤」公車、捷運有足跡\n",
      "三立 996907 生活\n",
      "2021/09/12 15:30:00\n",
      "\n",
      "留言：\n",
      "可以提升3級警戒嗎，我很怕中秋節4天連假後真的會大爆發，我知道很多小吃店餐廳希望能內用所以不要三級，但進入秋冬後如果真的疫情炸開大流行，做吃的店家可能連給客人外帶的機會都沒有了，因為已經封城了，我絕對不是在危言聳聽，因為台灣真的很小，台灣真的沒有大爆發的本錢！。\n",
      "----------------------------------------------\n",
      "\n",
      "桃園的確診者跟新北幼兒園群聚案有關聯，是確診者的接觸者，早已被匡列隔離，因此社區風險較低。。\n",
      "----------------------------------------------\n",
      "\n",
      "還想“選總統”？。\n",
      "----------------------------------------------\n",
      "\n",
      "\n",
      "\n",
      "=================================================\n",
      "\n",
      "\n",
      "=================================================\n",
      "newID: 996881\n",
      "Not in the DB！！！！！！！！！！！\n",
      "\n",
      "快訊／新北幼兒園群聚＋2　「6天篩檢2萬人」結果出爐了\n",
      "三立 996881 政治\n",
      "2021/09/12 15:15:00\n",
      "\n",
      "留言：\n",
      "\n",
      "\n",
      "=================================================\n",
      "\n",
      "\n",
      "=================================================\n",
      "newID: 996871\n",
      "\n",
      "留言：\n",
      "還好不是台灣不然又要説什麼時候打過什麼疫苗了。\n",
      "----------------------------------------------\n",
      "\n",
      "\n",
      "\n",
      "=================================================\n",
      "newID: 996885\n",
      "\n",
      "留言：\n",
      "\n",
      "\n",
      "=================================================\n",
      "\n",
      "\n",
      "=================================================\n",
      "newID: 996792\n",
      "\n",
      "留言：\n",
      "老天爺怕我們假日群聚採購中秋節烤肉用品怕賣場和市場會感染所以來一個颱風。\n",
      "----------------------------------------------\n",
      "\n",
      "5\n"
     ]
    }
   ],
   "metadata": {
    "tags": []
   }
  },
  {
   "cell_type": "code",
   "execution_count": null,
   "source": [
    "\r\n"
   ],
   "outputs": [],
   "metadata": {}
  }
 ]
}