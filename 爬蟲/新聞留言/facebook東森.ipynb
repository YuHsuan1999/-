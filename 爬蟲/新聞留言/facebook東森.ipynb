{
 "metadata": {
  "language_info": {
   "codemirror_mode": {
    "name": "ipython",
    "version": 3
   },
   "file_extension": ".py",
   "mimetype": "text/x-python",
   "name": "python",
   "nbconvert_exporter": "python",
   "pygments_lexer": "ipython3",
   "version": "3.8.3"
  },
  "orig_nbformat": 2,
  "kernelspec": {
   "name": "python3",
   "display_name": "Python 3.8.3 64-bit ('base': conda)"
  },
  "interpreter": {
   "hash": "b3ba2566441a7c06988d0923437866b63cedc61552a5af99d1f4fb67d367b25f"
  }
 },
 "nbformat": 4,
 "nbformat_minor": 2,
 "cells": [
  {
   "cell_type": "code",
   "execution_count": 90,
   "metadata": {},
   "outputs": [],
   "source": [
    "import pymysql\n",
    "db_settings = {\n",
    "    \"host\": \"127.0.0.1\",\n",
    "    \"port\": 3306,\n",
    "    \"user\": \"root\",\n",
    "    \"password\": \"\",\n",
    "    \"db\": \"news\",\n",
    "    \"charset\": \"utf8\"\n",
    "}\n",
    "\n",
    "try:\n",
    "    conn = pymysql.connect(**db_settings)\n",
    "except Exception as ex:\n",
    "    print(ex)"
   ]
  },
  {
   "cell_type": "code",
   "execution_count": 91,
   "metadata": {},
   "outputs": [],
   "source": [
    "from selenium import webdriver\n",
    "import requests\n",
    "import time\n",
    "from bs4 import BeautifulSoup as bs\n",
    "from selenium.common.exceptions import NoSuchElementException\n",
    "from selenium.common.exceptions import StaleElementReferenceException\n",
    "from selenium.common.exceptions import ElementNotInteractableException\n",
    "from selenium.common.exceptions import ElementClickInterceptedException"
   ]
  },
  {
   "cell_type": "code",
   "execution_count": 92,
   "metadata": {},
   "outputs": [
    {
     "output_type": "stream",
     "name": "stdout",
     "text": [
      "Facebook - 登入或註冊\n"
     ]
    }
   ],
   "source": [
    "path = r'C:\\\\Users\\\\Administrator\\\\Downloads\\\\chromedriver_win32\\\\chromedriver.exe'\n",
    "driver = webdriver.Chrome(path)\n",
    "driver.maximize_window()\n",
    "\n",
    "driver.get(\"https://www.facebook.com/\") # 更改網址以前往不同網頁\n",
    "print(driver.title)\n",
    "\n",
    "# 登入\n",
    "time.sleep(1)\n",
    "username = driver.find_element_by_id('email')\n",
    "username.send_keys('annie881112@yahoo.com.tw')\n",
    "\n",
    "password = driver.find_element_by_id('pass')\n",
    "password.send_keys('annie1329')\n",
    "\n",
    "button = driver.find_element_by_name('login')\n",
    "button.click()"
   ]
  },
  {
   "cell_type": "code",
   "execution_count": 93,
   "metadata": {},
   "outputs": [
    {
     "output_type": "stream",
     "name": "stdout",
     "text": [
      "(2) 東森新聞 | Facebook\n"
     ]
    }
   ],
   "source": [
    "# 跳到東森新聞頁面\n",
    "time.sleep(2)\n",
    "driver.get(\"https://www.facebook.com/news.ebc\")\n",
    "print(driver.title)"
   ]
  },
  {
   "cell_type": "code",
   "execution_count": 94,
   "metadata": {},
   "outputs": [
    {
     "output_type": "error",
     "ename": "IndexError",
     "evalue": "list index out of range",
     "traceback": [
      "\u001b[1;31m---------------------------------------------------------------------------\u001b[0m",
      "\u001b[1;31mIndexError\u001b[0m                                Traceback (most recent call last)",
      "\u001b[1;32m<ipython-input-94-6439c721a1c3>\u001b[0m in \u001b[0;36m<module>\u001b[1;34m\u001b[0m\n\u001b[0;32m      4\u001b[0m \u001b[1;32mwhile\u001b[0m\u001b[1;33m(\u001b[0m\u001b[1;32mTrue\u001b[0m \u001b[1;32mand\u001b[0m \u001b[0mcount\u001b[0m \u001b[1;33m<\u001b[0m \u001b[1;36m100\u001b[0m\u001b[1;33m)\u001b[0m\u001b[1;33m:\u001b[0m\u001b[1;33m\u001b[0m\u001b[1;33m\u001b[0m\u001b[0m\n\u001b[0;32m      5\u001b[0m     \u001b[1;32mtry\u001b[0m\u001b[1;33m:\u001b[0m\u001b[1;33m\u001b[0m\u001b[1;33m\u001b[0m\u001b[0m\n\u001b[1;32m----> 6\u001b[1;33m         \u001b[0mcontent_more\u001b[0m \u001b[1;33m=\u001b[0m \u001b[0mdriver\u001b[0m\u001b[1;33m.\u001b[0m\u001b[0mfind_elements_by_class_name\u001b[0m\u001b[1;33m(\u001b[0m\u001b[1;34m'abiwlrkh.gpro0wi8.m9osqain.buofh1pr'\u001b[0m\u001b[1;33m)\u001b[0m\u001b[1;33m[\u001b[0m\u001b[0mi\u001b[0m\u001b[1;33m]\u001b[0m\u001b[1;33m\u001b[0m\u001b[1;33m\u001b[0m\u001b[0m\n\u001b[0m\u001b[0;32m      7\u001b[0m \u001b[1;33m\u001b[0m\u001b[0m\n\u001b[0;32m      8\u001b[0m         \u001b[1;32mif\u001b[0m\u001b[1;33m(\u001b[0m\u001b[1;34m'隱藏'\u001b[0m \u001b[1;32min\u001b[0m \u001b[0mcontent_more\u001b[0m\u001b[1;33m.\u001b[0m\u001b[0mtext\u001b[0m\u001b[1;33m)\u001b[0m\u001b[1;33m:\u001b[0m\u001b[1;33m\u001b[0m\u001b[1;33m\u001b[0m\u001b[0m\n",
      "\u001b[1;31mIndexError\u001b[0m: list index out of range"
     ]
    }
   ],
   "source": [
    "count = 0\n",
    "time.sleep(2)\n",
    "i = 0\n",
    "while(True and count < 50):\n",
    "    try:\n",
    "        content_more = driver.find_elements_by_class_name('abiwlrkh.gpro0wi8.m9osqain.buofh1pr')[i]\n",
    "        \n",
    "        if('隱藏' in content_more.text):\n",
    "            i += 1\n",
    "            continue\n",
    "\n",
    "        content_more.click()\n",
    "        count += 1\n",
    "        print(str(count) + ' ' + content_more.text)\n",
    "        time.sleep(0.5)\n",
    "    except StaleElementReferenceException: #element is not attached to the page document\n",
    "        #define the web element once again\n",
    "        continue\n",
    "    except ElementNotInteractableException:\n",
    "        continue\n",
    "    except ElementClickInterceptedException:\n",
    "        i += 1\n",
    "        continue\n",
    "    except NoSuchElementException as e: #點完所有更多留言按鈕了\n",
    "        \n",
    "        # 滾動網頁/下拉視窗(scroll down) \n",
    "        #function4:scroll down window #function4:向下捲動視窗\n",
    "        print('function4:scroll down window')\n",
    "        driver.execute_script('')\n",
    "    \n",
    "i = 0\n",
    "while(i < 5):\n",
    "    driver.execute_script('')\n",
    "    i+=1"
   ]
  },
  {
   "cell_type": "code",
   "execution_count": 89,
   "metadata": {},
   "outputs": [
    {
     "output_type": "stream",
     "name": "stdout",
     "text": [
      "\n",
      "\n",
      "=================================================\n",
      "\n",
      "\n",
      "=================================================\n",
      "https://l.facebook.com/l.php?u=https%3A%2F%2Fnews.ebc.net.tw%2Fnews%2Fentertainment%2F269494%3Ffbclid%3DIwAR3rX4wM-6jLhkjXQYnRVCHLbkgPn1cdS1dhwIY0uqWbp_LAYmQChlyrKvc&h=AT0FsQEq4AHWx59KQzjCBBkkSUJmvOdJjpUce1NSFjJROSqfszwgmyyGkXClpIFEqa6v36aZSZJ5l_wSA2TaSzu91yMrZ0wFk6J3bQfunwj11Xb4vquEjkQICPo9Wbo5xRj5&__tn__=H-R&c[0]=AT2_MZbQL5yTk_K2bLuvPyEwtRtODF1IVj3ZKbtKp09RlLzz1E49z9YU_KZnJcLTpD5B_3E6DF6bHxMtCbxQINirpHKuEQ0qHxyUkqFcCPHINCkztJPzviNJPeeVLNCY_jN40iGf7LdAjxLLYoLsT2X_TnFW5ULovgxPUgVYxl_hu_o\n",
      "\n",
      "\n",
      "=================================================\n",
      "\n",
      "\n",
      "=================================================\n",
      "\n",
      "\n",
      "=================================================\n",
      "https://l.facebook.com/l.php?u=https%3A%2F%2Fnews.ebc.net.tw%2Fnews%2Fliving%2F269497%3Ffbclid%3DIwAR1GrRZeWKv-7tgkEVbS-lN3CgZVAv6d3dUdH6KdWgKCOoUJWvAogZlVqWQ&h=AT0oMhnp9_bK1XCvhF0IrGe1TGPw4QvD8hcfsQlrJbHugZeuSeipYhZip1ZVvyYLaiuSUqFDthddQAL9tXp7MFKULlYEkHZOeX92t5kHEScSFWyWxTdKg3rPO8En0zmPugTb&__tn__=H-R&c[0]=AT19FoEPVxS20IoTb8i-rkercka2B-8WsBRQFLAso_DjQIOeiLsCTCTudHzg36qYU_v0jZS5vNomDLzauklAkhnUU2406J-LZyHaH34O-yEPHcKMGO0KAyMr8-vyyrES92otMT1jFFH-7b_ey_F8jNuUKlNDEZEYV1V6eVLkhDV6u8A\n",
      "\n",
      "\n",
      "=================================================\n",
      "https://l.facebook.com/l.php?u=https%3A%2F%2Fnews.ebc.net.tw%2Fnews%2Fentertainment%2F269513%3Ffbclid%3DIwAR1BBys_DxlaJD7XAQVJRuGm9bbYMdvMj4P5Aib6KJ6PAfHgS_2hMuW29zE&h=AT2l-iJBZ6e_hdrCD0UoFd_9oR4MUrWwnPyYcBZzDYrOGoPfdDmozxxf7lQU6ctDsZQj0iziB_9KtjA__kcwzDu0KqOYJC5PQMmPr8uz2Ql-3UYk4ThLNU7E3hnEAfe0i3lO&__tn__=H-R&c[0]=AT0JNwaBnzHT-ynkKGTKYRm7VTT3IaHIDtZk6C6mpAeIylx2PIQrOYDM3EDXA00DPChclpjt7Whajhk4hyX49qRC73vvbQAzjL81em_x0iyuD3L89Gj16tfLLepdV7DvIYF8VfchBfq6eq-aTDcXx8gG39Zs0Lu_HynHsN35Mmsf6r4\n"
     ]
    }
   ],
   "source": [
    "all = [] #存放所有留言\n",
    "url = \"\"\n",
    "soup = bs(driver.page_source, 'html.parser')\n",
    "newsblock = soup.find_all(\"div\", {\"class\": \"du4w35lb k4urcfbm l9j0dhe7 sjgh65i0\"})   # 每個新聞的block\n",
    "for detial in newsblock:\n",
    "    print('\\n\\n=================================================')\n",
    "    url = detial.find('div', {'class': 'j83agx80 soycq5t1 ni8dbmo4 stjgntxs l9j0dhe7'})\n",
    "    if(url != None):\n",
    "        url = url.find('a')\n",
    "    news_id = ''\n",
    "    if(url != None):\n",
    "        url = url['href']\n",
    "        print(url)\n",
    "        if('NewsID%3D' in url):\n",
    "            news_id = url.split('NewsID%3D')[1]\n",
    "            news_id = news_id.split('%')[0]\n",
    "            \n",
    "            print('newID: ' + news_id)\n",
    "    \n",
    "    # 確認該新聞是否在DB中\n",
    "    with conn.cursor() as cursor:\n",
    "      sql = 'SELECT News_id FROM original WHERE News_id = %s AND Provenance = \\'東森\\''\n",
    "      cursor.execute(sql, (news_id))\n",
    "      result = cursor.fetchall()\n",
    "      check = None\n",
    "      for row in result:\n",
    "        check = row[0]\n",
    "    \n",
    "    if(check == None and url != None):     #該新聞有連結且不在DB中\n",
    "        # # 抓取內容\n",
    "        # r2 = requests.get(url)\n",
    "        # soup2 = bs(r2.text, \"lxml\")\n",
    "        # a2 = soup2.find(\"div\", {\"class\"\": \"fncnews-content\"})\n",
    "        # #標題\n",
    "        # title = ''\n",
    "        # title = soup2.find(\"h1\").text\n",
    "        # #url\n",
    "        # url = ''\n",
    "        # url = soup2.find(\"link\", {'rel': 'canonical'})['href']\n",
    "        # print(url)\n",
    "\n",
    "        \n",
    "        # # 日期\n",
    "        # date = soup2.find(\"div\", {\"class\": \"page-title-text\"})\n",
    "        # date = date.find('time', {'class': 'page-date'})\n",
    "        # date = date.text\n",
    "        # print(date)\n",
    "        # print(url)\n",
    "        # for content_temp in (a2.findAll(\"p\")):\n",
    "        #     if(('▲' in content_temp.text)):     #跳過圖片註解\n",
    "        #         continue\n",
    "        #     if((('/' in content_temp.text) or ('／' in content_temp.text)) and ('報導' in content_temp.text)):\n",
    "        #         continue\n",
    "        #     content += content_temp.text\n",
    "        # #print(content)\n",
    "\n",
    "        # with conn.cursor() as cursor:\n",
    "        #     # 新增資料SQL語法\n",
    "        #     command = 'INSERT INTO original VALUES(%s, %s, %s, %s, %s, %s, %s)'\n",
    "        #     cursor.execute(command, (news_id, date, title, url, number[i], '三立', content))\n",
    "        #     # 儲存變更\n",
    "        # conn.commit()\n",
    "        continue\n",
    "    \n",
    "    elif(check == None):\n",
    "        continue\n",
    "\n",
    "    #------------------------------------------------------------------------------------------\n",
    "    print('\\n留言：')\n",
    "    comments = detial.find_all('div', {'class': 'ecm0bbzt e5nlhep0 a8c37x1j'})\n",
    "    for i in comments:\n",
    "        comment = \"\"\n",
    "        for j in i.find_all('div', {'class': 'kvgmc6g5 cxmmr5t8 oygrvhab hcukyx3x c1et5uql'}):         #每則留言\n",
    "            for k in j.find_all('div'):         #每一行，可能包含標註人名\n",
    "                temp = k.find('a')\n",
    "                if(temp != None):       #有人名\n",
    "                    temp = temp.text\n",
    "                    comment += (k.text.split(temp))[1]\n",
    "                else:           #沒人名\n",
    "                    comment += (k.text + '。')\n",
    "            print(comment)\n",
    "            # with conn.cursor() as cursor:\n",
    "            #     # 新增資料SQL語法\n",
    "            #     command = 'INSERT INTO comments(News_id, Provenance, Comment) VALUES(%s, %s, %s)'\n",
    "            #     cursor.execute(command, (news_id, '東森', comment))\n",
    "            #     # 儲存變更\n",
    "            #     conn.commit()\n",
    "        print('----------------------------------------------\\n')"
   ]
  }
 ]
}