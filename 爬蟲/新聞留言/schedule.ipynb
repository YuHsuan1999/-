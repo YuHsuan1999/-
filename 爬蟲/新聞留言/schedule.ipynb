{
 "metadata": {
  "language_info": {
   "codemirror_mode": {
    "name": "ipython",
    "version": 3
   },
   "file_extension": ".py",
   "mimetype": "text/x-python",
   "name": "python",
   "nbconvert_exporter": "python",
   "pygments_lexer": "ipython3",
   "version": "3.7.6"
  },
  "orig_nbformat": 4,
  "kernelspec": {
   "name": "python3",
   "display_name": "Python 3.7.6 64-bit ('Bert_EDModel': conda)"
  },
  "interpreter": {
   "hash": "3c7a819655e9f6c16ec335f8a3abf936bf261f9d6cb538ae0c27bb7ccda00602"
  }
 },
 "nbformat": 4,
 "nbformat_minor": 2,
 "cells": [
  {
   "cell_type": "code",
   "execution_count": 1,
   "source": [
    "import time\r\n",
    "import datetime\r\n",
    "from apscheduler.schedulers.background import BackgroundScheduler\r\n",
    "from apscheduler.triggers.interval import IntervalTrigger\r\n",
    "import total\r\n",
    "\r\n",
    "def my_job():\r\n",
    "    total.SETN()\r\n",
    "\r\n",
    "\r\n",
    "if __name__ == \"__main__\":\r\n",
    "    scheduler = BackgroundScheduler()\r\n",
    "    intervalTrigger = IntervalTrigger(hours=1)\r\n",
    "    scheduler.add_job(my_job, intervalTrigger, id='SETN')\r\n",
    "\r\n",
    "    scheduler.start()"
   ],
   "outputs": [
    {
     "output_type": "stream",
     "name": "stdout",
     "text": [
      "Facebook - 登入或註冊\n",
      "(3) 三立新聞 | Facebook\n"
     ]
    },
    {
     "output_type": "stream",
     "name": "stderr",
     "text": [
      "Job \"my_job (trigger: interval[0:03:00], next run at: 2021-09-07 16:11:00 CST)\" raised an exception\n",
      "Traceback (most recent call last):\n",
      "  File \"C:\\Users\\USER\\Anaconda3\\envs\\Bert_EDModel\\lib\\site-packages\\apscheduler\\executors\\base.py\", line 125, in run_job\n",
      "    retval = job.func(*job.args, **job.kwargs)\n",
      "  File \"<ipython-input-1-1d71bf8f8d9e>\", line 8, in my_job\n",
      "    total.SETN()\n",
      "  File \"c:\\Users\\USER\\Desktop\\畢專\\爬蟲\\新聞留言\\total.py\", line 54, in SETN\n",
      "    content_more = driver.find_elements_by_class_name('abiwlrkh.gpro0wi8.m9osqain.buofh1pr')[i]\n",
      "IndexError: list index out of range\n"
     ]
    },
    {
     "output_type": "stream",
     "name": "stdout",
     "text": [
      "Facebook - 登入或註冊\n",
      "(3) 三立新聞 | Facebook\n"
     ]
    },
    {
     "output_type": "stream",
     "name": "stderr",
     "text": [
      "Job \"my_job (trigger: interval[0:03:00], next run at: 2021-09-07 16:14:00 CST)\" raised an exception\n",
      "Traceback (most recent call last):\n",
      "  File \"C:\\Users\\USER\\Anaconda3\\envs\\Bert_EDModel\\lib\\site-packages\\apscheduler\\executors\\base.py\", line 125, in run_job\n",
      "    retval = job.func(*job.args, **job.kwargs)\n",
      "  File \"<ipython-input-1-1d71bf8f8d9e>\", line 8, in my_job\n",
      "    total.SETN()\n",
      "  File \"c:\\Users\\USER\\Desktop\\畢專\\爬蟲\\新聞留言\\total.py\", line 54, in SETN\n",
      "    content_more = driver.find_elements_by_class_name('abiwlrkh.gpro0wi8.m9osqain.buofh1pr')[i]\n",
      "IndexError: list index out of range\n",
      "Job \"my_job (trigger: interval[0:03:00], next run at: 2021-09-07 16:17:00 CST)\" raised an exception\n",
      "Traceback (most recent call last):\n",
      "  File \"C:\\Users\\USER\\Anaconda3\\envs\\Bert_EDModel\\lib\\site-packages\\apscheduler\\executors\\base.py\", line 125, in run_job\n",
      "    retval = job.func(*job.args, **job.kwargs)\n",
      "  File \"<ipython-input-1-1d71bf8f8d9e>\", line 8, in my_job\n",
      "    total.SETN()\n",
      "  File \"c:\\Users\\USER\\Desktop\\畢專\\爬蟲\\新聞留言\\total.py\", line 29, in SETN\n",
      "    driver.get(\"https://www.facebook.com/\")\n",
      "  File \"C:\\Users\\USER\\Anaconda3\\envs\\Bert_EDModel\\lib\\site-packages\\selenium\\webdriver\\remote\\webdriver.py\", line 333, in get\n",
      "    self.execute(Command.GET, {'url': url})\n",
      "  File \"C:\\Users\\USER\\Anaconda3\\envs\\Bert_EDModel\\lib\\site-packages\\selenium\\webdriver\\remote\\webdriver.py\", line 321, in execute\n",
      "    self.error_handler.check_response(response)\n",
      "  File \"C:\\Users\\USER\\Anaconda3\\envs\\Bert_EDModel\\lib\\site-packages\\selenium\\webdriver\\remote\\errorhandler.py\", line 242, in check_response\n",
      "    raise exception_class(message, screen, stacktrace)\n",
      "selenium.common.exceptions.WebDriverException: Message: chrome not reachable\n",
      "  (Session info: chrome=92.0.4515.131)\n",
      "  (Driver info: chromedriver=2.38.552522 (437e6fbedfa8762dec75e2c5b3ddb86763dc9dcb),platform=Windows NT 10.0.19043 x86_64)\n",
      "\n"
     ]
    },
    {
     "output_type": "stream",
     "name": "stdout",
     "text": [
      "Facebook - 登入或註冊\n",
      "(3) 三立新聞 | Facebook\n"
     ]
    },
    {
     "output_type": "stream",
     "name": "stderr",
     "text": [
      "Job \"my_job (trigger: interval[0:03:00], next run at: 2021-09-07 16:20:00 CST)\" raised an exception\n",
      "Traceback (most recent call last):\n",
      "  File \"C:\\Users\\USER\\Anaconda3\\envs\\Bert_EDModel\\lib\\site-packages\\apscheduler\\executors\\base.py\", line 125, in run_job\n",
      "    retval = job.func(*job.args, **job.kwargs)\n",
      "  File \"<ipython-input-1-1d71bf8f8d9e>\", line 8, in my_job\n",
      "    total.SETN()\n",
      "  File \"c:\\Users\\USER\\Desktop\\畢專\\爬蟲\\新聞留言\\total.py\", line 54, in SETN\n",
      "    content_more = driver.find_elements_by_class_name('abiwlrkh.gpro0wi8.m9osqain.buofh1pr')[i]\n",
      "IndexError: list index out of range\n"
     ]
    },
    {
     "output_type": "stream",
     "name": "stdout",
     "text": [
      "Facebook - 登入或註冊\n"
     ]
    },
    {
     "output_type": "stream",
     "name": "stderr",
     "text": [
      "Job \"my_job (trigger: interval[0:03:00], next run at: 2021-09-07 16:23:00 CST)\" raised an exception\n",
      "Traceback (most recent call last):\n",
      "  File \"C:\\Users\\USER\\Anaconda3\\envs\\Bert_EDModel\\lib\\site-packages\\apscheduler\\executors\\base.py\", line 125, in run_job\n",
      "    retval = job.func(*job.args, **job.kwargs)\n",
      "  File \"<ipython-input-1-1d71bf8f8d9e>\", line 8, in my_job\n",
      "    total.SETN()\n",
      "  File \"c:\\Users\\USER\\Desktop\\畢專\\爬蟲\\新聞留言\\total.py\", line 45, in SETN\n",
      "    driver.get(\"https://www.facebook.com/setnews\")\n",
      "  File \"C:\\Users\\USER\\Anaconda3\\envs\\Bert_EDModel\\lib\\site-packages\\selenium\\webdriver\\remote\\webdriver.py\", line 333, in get\n",
      "    self.execute(Command.GET, {'url': url})\n",
      "  File \"C:\\Users\\USER\\Anaconda3\\envs\\Bert_EDModel\\lib\\site-packages\\selenium\\webdriver\\remote\\webdriver.py\", line 321, in execute\n",
      "    self.error_handler.check_response(response)\n",
      "  File \"C:\\Users\\USER\\Anaconda3\\envs\\Bert_EDModel\\lib\\site-packages\\selenium\\webdriver\\remote\\errorhandler.py\", line 242, in check_response\n",
      "    raise exception_class(message, screen, stacktrace)\n",
      "selenium.common.exceptions.WebDriverException: Message: chrome not reachable\n",
      "  (Session info: chrome=92.0.4515.131)\n",
      "  (Driver info: chromedriver=2.38.552522 (437e6fbedfa8762dec75e2c5b3ddb86763dc9dcb),platform=Windows NT 10.0.19043 x86_64)\n",
      "\n",
      "Job \"my_job (trigger: interval[0:03:00], next run at: 2021-09-07 16:26:00 CST)\" raised an exception\n",
      "Traceback (most recent call last):\n",
      "  File \"C:\\Users\\USER\\Anaconda3\\envs\\Bert_EDModel\\lib\\site-packages\\apscheduler\\executors\\base.py\", line 125, in run_job\n",
      "    retval = job.func(*job.args, **job.kwargs)\n",
      "  File \"<ipython-input-1-1d71bf8f8d9e>\", line 8, in my_job\n",
      "    total.SETN()\n",
      "  File \"c:\\Users\\USER\\Desktop\\畢專\\爬蟲\\新聞留言\\total.py\", line 27, in SETN\n",
      "    driver = webdriver.Chrome(path)\n",
      "  File \"C:\\Users\\USER\\Anaconda3\\envs\\Bert_EDModel\\lib\\site-packages\\selenium\\webdriver\\chrome\\webdriver.py\", line 81, in __init__\n",
      "    desired_capabilities=desired_capabilities)\n",
      "  File \"C:\\Users\\USER\\Anaconda3\\envs\\Bert_EDModel\\lib\\site-packages\\selenium\\webdriver\\remote\\webdriver.py\", line 157, in __init__\n",
      "    self.start_session(capabilities, browser_profile)\n",
      "  File \"C:\\Users\\USER\\Anaconda3\\envs\\Bert_EDModel\\lib\\site-packages\\selenium\\webdriver\\remote\\webdriver.py\", line 252, in start_session\n",
      "    response = self.execute(Command.NEW_SESSION, parameters)\n",
      "  File \"C:\\Users\\USER\\Anaconda3\\envs\\Bert_EDModel\\lib\\site-packages\\selenium\\webdriver\\remote\\webdriver.py\", line 321, in execute\n",
      "    self.error_handler.check_response(response)\n",
      "  File \"C:\\Users\\USER\\Anaconda3\\envs\\Bert_EDModel\\lib\\site-packages\\selenium\\webdriver\\remote\\errorhandler.py\", line 242, in check_response\n",
      "    raise exception_class(message, screen, stacktrace)\n",
      "selenium.common.exceptions.SessionNotCreatedException: Message: session not created exception\n",
      "from chrome not reachable\n",
      "  (Session info: chrome=92.0.4515.131)\n",
      "  (Driver info: chromedriver=2.38.552522 (437e6fbedfa8762dec75e2c5b3ddb86763dc9dcb),platform=Windows NT 10.0.19043 x86_64)\n",
      "\n",
      "Job \"my_job (trigger: interval[0:03:00], next run at: 2021-09-07 16:29:00 CST)\" raised an exception\n",
      "Traceback (most recent call last):\n",
      "  File \"C:\\Users\\USER\\Anaconda3\\envs\\Bert_EDModel\\lib\\site-packages\\apscheduler\\executors\\base.py\", line 125, in run_job\n",
      "    retval = job.func(*job.args, **job.kwargs)\n",
      "  File \"<ipython-input-1-1d71bf8f8d9e>\", line 8, in my_job\n",
      "    total.SETN()\n",
      "  File \"c:\\Users\\USER\\Desktop\\畢專\\爬蟲\\新聞留言\\total.py\", line 27, in SETN\n",
      "    driver = webdriver.Chrome(path)\n",
      "  File \"C:\\Users\\USER\\Anaconda3\\envs\\Bert_EDModel\\lib\\site-packages\\selenium\\webdriver\\chrome\\webdriver.py\", line 81, in __init__\n",
      "    desired_capabilities=desired_capabilities)\n",
      "  File \"C:\\Users\\USER\\Anaconda3\\envs\\Bert_EDModel\\lib\\site-packages\\selenium\\webdriver\\remote\\webdriver.py\", line 157, in __init__\n",
      "    self.start_session(capabilities, browser_profile)\n",
      "  File \"C:\\Users\\USER\\Anaconda3\\envs\\Bert_EDModel\\lib\\site-packages\\selenium\\webdriver\\remote\\webdriver.py\", line 252, in start_session\n",
      "    response = self.execute(Command.NEW_SESSION, parameters)\n",
      "  File \"C:\\Users\\USER\\Anaconda3\\envs\\Bert_EDModel\\lib\\site-packages\\selenium\\webdriver\\remote\\webdriver.py\", line 321, in execute\n",
      "    self.error_handler.check_response(response)\n",
      "  File \"C:\\Users\\USER\\Anaconda3\\envs\\Bert_EDModel\\lib\\site-packages\\selenium\\webdriver\\remote\\errorhandler.py\", line 242, in check_response\n",
      "    raise exception_class(message, screen, stacktrace)\n",
      "selenium.common.exceptions.SessionNotCreatedException: Message: session not created exception\n",
      "from chrome not reachable\n",
      "  (Session info: chrome=92.0.4515.131)\n",
      "  (Driver info: chromedriver=2.38.552522 (437e6fbedfa8762dec75e2c5b3ddb86763dc9dcb),platform=Windows NT 10.0.19043 x86_64)\n",
      "\n"
     ]
    }
   ],
   "metadata": {}
  },
  {
   "cell_type": "code",
   "execution_count": null,
   "source": [],
   "outputs": [],
   "metadata": {}
  }
 ]
}