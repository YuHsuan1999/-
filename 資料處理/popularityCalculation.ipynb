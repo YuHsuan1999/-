{
 "cells": [
  {
   "cell_type": "code",
   "execution_count": 1,
   "metadata": {},
   "outputs": [],
   "source": [
    "import sys\n",
    "sys.path.append(\"..\")\n",
    "import mysql\n",
    "from mysql import connect_mysql\n",
    "import time\n",
    "import datetime\n",
    "\n",
    "conn = connect_mysql()"
   ]
  },
  {
   "cell_type": "code",
   "execution_count": 3,
   "metadata": {},
   "outputs": [
    {
     "name": "stdout",
     "output_type": "stream",
     "text": [
      "1015095 三立\n",
      "1015305 三立\n",
      "1015021 三立\n",
      "1015137 三立\n",
      "1015503 三立\n",
      "1015109 三立\n",
      "1014979 三立\n",
      "1015212 三立\n"
     ]
    }
   ],
   "source": [
    "with conn.cursor() as cursor:\n",
    "    command = 'select News_id, Provenance, k.keyword, pk.weight from original NATURAL JOIN keywords as k INNER JOIN popular_keywords AS pk on k.keyword = pk.keyword ORDER BY weight DESC'\n",
    "    cursor.execute(command)\n",
    "    result = cursor.fetchall()\n",
    "    weight_check = 20\n",
    "    count = 1\n",
    "    run = 0\n",
    "\n",
    "    for row in result:\n",
    "        news_id = row[0]\n",
    "        provenance = row[1]\n",
    "        weight = row[3]\n",
    "\n",
    "        print(str(news_id) + ' ' + provenance)\n",
    "\n",
    "        if(run > 2):    #若同一關鍵字之新聞超過兩筆，跳過，換下一個關鍵字\n",
    "            weight_check -= 1\n",
    "            run = 0\n",
    "\n",
    "        if(weight > weight_check):  #若該新聞關鍵字權重大於現在要找的關鍵字權重，代表該關鍵字太多筆了要被跳過\n",
    "            continue\n",
    "\n",
    "        while(weight < weight_check):   #若該新聞關鍵字權重小於現在要找的關鍵字權重，代表有關鍵字並無新聞\n",
    "            weight_check -= 1\n",
    "            run = 0\n",
    "\n",
    "\n",
    "        with conn.cursor() as cursor:\n",
    "            sql = 'UPDATE processed_data SET Popularity = %s WHERE News_id = %s AND Provenance = %s'\n",
    "            cursor.execute(sql, (str(count), news_id, provenance))\n",
    "        conn.commit()\n",
    "        \n",
    "        count += 1\n",
    "        run += 1\n"
   ]
  },
  {
   "cell_type": "code",
   "execution_count": null,
   "metadata": {},
   "outputs": [],
   "source": [
    "with conn.cursor() as cursor:\n",
    "    command = 'select News_id, Provenance, k.keyword, pk.weight from original NATURAL JOIN keywords as k INNER JOIN popular_keywords AS pk on k.keyword = pk.keyword ORDER BY weight DESC'\n",
    "    cursor.execute(command)\n",
    "    result = cursor.fetchall()\n",
    "    weight_check = 20\n",
    "    count = 1\n",
    "    run = 0\n",
    "\n",
    "    for row in result:\n",
    "        news_id = row[0]\n",
    "        provenance = row[1]\n",
    "        weight = row[3]\n",
    "\n",
    "        print(str(news_id) + ' ' + provenance)\n",
    "\n",
    "        if(run > 2):    #若同一關鍵字之新聞超過兩筆，跳過，換下一個關鍵字\n",
    "            weight_check -= 1\n",
    "            run = 0\n",
    "\n",
    "        if(weight > weight_check):  #若該新聞關鍵字權重大於現在要找的關鍵字權重，代表該關鍵字太多筆了要被跳過\n",
    "            continue\n",
    "\n",
    "        while(weight < weight_check):   #若該新聞關鍵字權重小於現在要找的關鍵字權重，代表有關鍵字並無新聞\n",
    "            weight_check -= 1\n",
    "            run = 0\n",
    "\n",
    "\n",
    "        with conn.cursor() as cursor:\n",
    "            sql = 'UPDATE processed_data SET Popularity = %s WHERE News_id = %s AND Provenance = %s'\n",
    "            cursor.execute(sql, (str(count), news_id, provenance))\n",
    "        conn.commit()\n",
    "        \n",
    "        count += 1\n",
    "        run += 1\n"
   ]
  },
  {
   "cell_type": "code",
   "execution_count": null,
   "metadata": {},
   "outputs": [],
   "source": []
  }
 ],
 "metadata": {
  "interpreter": {
   "hash": "e48d23369a553edc96f1373b6255b5687d82d68cd08867622b2500e338930542"
  },
  "kernelspec": {
   "display_name": "Python 3.7.4 64-bit ('base': conda)",
   "name": "python3"
  },
  "language_info": {
   "codemirror_mode": {
    "name": "ipython",
    "version": 3
   },
   "file_extension": ".py",
   "mimetype": "text/x-python",
   "name": "python",
   "nbconvert_exporter": "python",
   "pygments_lexer": "ipython3",
   "version": "3.7.4"
  },
  "orig_nbformat": 4
 },
 "nbformat": 4,
 "nbformat_minor": 2
}
