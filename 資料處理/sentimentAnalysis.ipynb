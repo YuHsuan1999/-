{
 "cells": [
  {
   "cell_type": "code",
   "execution_count": 12,
   "metadata": {},
   "outputs": [],
   "source": [
    "import sys\n",
    "sys.path.append(\"..\")\n",
    "import mysql\n",
    "from mysql import connect_mysql\n",
    "import time\n",
    "import datetime\n",
    "\n",
    "conn = connect_mysql()"
   ]
  },
  {
   "cell_type": "code",
   "execution_count": 13,
   "metadata": {},
   "outputs": [],
   "source": [
    "import pandas as pd\n",
    "from opencc import OpenCC\n",
    "import numpy as np\n",
    "import torch"
   ]
  },
  {
   "cell_type": "code",
   "execution_count": 14,
   "metadata": {},
   "outputs": [],
   "source": [
    "from transformers import BertTokenizer\n",
    "from torch.utils.data import TensorDataset, DataLoader, RandomSampler, SequentialSampler"
   ]
  },
  {
   "cell_type": "code",
   "execution_count": 15,
   "metadata": {},
   "outputs": [
    {
     "name": "stdout",
     "output_type": "stream",
     "text": [
      "No GPU available, using the CPU instead.\n"
     ]
    }
   ],
   "source": [
    "import torch\n",
    "import numpy as np\n",
    "if torch.cuda.is_available():       \n",
    "    device = torch.device(\"cuda\")\n",
    "    print(f'There are {torch.cuda.device_count()} GPU(s) available.')\n",
    "    print('Device name:', torch.cuda.get_device_name(0))\n",
    "\n",
    "else:\n",
    "    print('No GPU available, using the CPU instead.')\n",
    "    device = torch.device(\"cpu\")"
   ]
  },
  {
   "cell_type": "code",
   "execution_count": 16,
   "metadata": {},
   "outputs": [],
   "source": [
    "cc = OpenCC('s2twp')  # s2twp為簡體轉台灣繁體(包含慣用語)"
   ]
  },
  {
   "cell_type": "code",
   "execution_count": 17,
   "metadata": {},
   "outputs": [],
   "source": [
    "tokenizer = BertTokenizer.from_pretrained('bert-base-chinese')"
   ]
  },
  {
   "cell_type": "code",
   "execution_count": 18,
   "metadata": {},
   "outputs": [],
   "source": [
    "def content_preprocessing(text_list = []):\n",
    "  input_ids = []\n",
    "  attention_masks = []\n",
    "  for i in range(0, len(text_list)):\n",
    "    # 簡體轉為繁體\n",
    "    content = cc.convert(text_list[i])\n",
    "\n",
    "    # 轉成token\n",
    "    tokens = tokenizer.encode_plus(content, add_special_tokens=True, max_length=150, padding='max_length')\n",
    "\n",
    "    input_ids.append(tokens.get('input_ids'))\n",
    "    attention_masks.append(tokens.get('attention_mask'))\n",
    "\n",
    "  # Convert lists to tensors\n",
    "  input_ids = torch.tensor(input_ids)\n",
    "  attention_masks = torch.tensor(attention_masks)\n",
    "\n",
    "  return input_ids, attention_masks"
   ]
  },
  {
   "cell_type": "code",
   "execution_count": 19,
   "metadata": {},
   "outputs": [],
   "source": [
    "import torch.nn as nn\n",
    "from transformers import BertModel\n",
    "\n",
    "# Create the BertClassfier class\n",
    "class BertClassifier(nn.Module):\n",
    "  \"\"\"Bert Model for Classification Tasks.\n",
    "  \"\"\"\n",
    "  def __init__(self, freeze_bert=False):\n",
    "    \"\"\"\n",
    "    @param    bert: a BertModel object\n",
    "    @param    classifier: a torch.nn.Module classifier\n",
    "    @param    freeze_bert (bool): Set `False` to fine-tune the BERT model\n",
    "    \"\"\"\n",
    "    super(BertClassifier, self).__init__()\n",
    "    # Specify hidden size of BERT, hidden size of our classifier, and number of labels\n",
    "    D_in, H, D_out = 768, 50, 2\n",
    "\n",
    "    # Instantiate BERT model\n",
    "    self.bert = BertModel.from_pretrained('bert-base-chinese')\n",
    "\n",
    "    # Instantiate an one-layer feed-forward classifier\n",
    "    self.classifier = nn.Sequential(\n",
    "     nn.Linear(D_in, H),\n",
    "     nn.ReLU(),\n",
    "     #nn.Dropout(0.5),\n",
    "     nn.Linear(H, D_out)\n",
    "    )\n",
    "\n",
    "    # Freeze the BERT model\n",
    "    if freeze_bert:\n",
    "      for param in self.bert.parameters():\n",
    "        param.requires_grad = False\n",
    "        \n",
    "  def forward(self, input_ids, attention_mask):\n",
    "    \"\"\"\n",
    "    Feed input to BERT and the classifier to compute logits.\n",
    "    @param    input_ids (torch.Tensor): an input tensor with shape (batch_size, max_length)\n",
    "    @param    attention_mask (torch.Tensor): a tensor that hold attention mask information with shape (batch_size, max_length)\n",
    "    @return   logits (torch.Tensor): an output tensor with shape (batch_size, num_labels)\n",
    "    \"\"\"\n",
    "    # Feed input to BERT\n",
    "    outputs = self.bert(input_ids=input_ids, attention_mask=attention_mask)\n",
    "        \n",
    "    # Extract the last hidden state of the token `[CLS]` for classification task\n",
    "    last_hidden_state_cls = outputs[0][:, 0, :]\n",
    "\n",
    "    # Feed input to classifier to compute logits\n",
    "    logits = self.classifier(last_hidden_state_cls)\n",
    "\n",
    "    return logits"
   ]
  },
  {
   "cell_type": "code",
   "execution_count": 20,
   "metadata": {},
   "outputs": [],
   "source": [
    "import torch.nn.functional as F\n",
    "\n",
    "def bert_predict(model, test_dataloader):\n",
    "    \"\"\"Perform a forward pass on the trained BERT model to predict probabilities\n",
    "    on the test set.\n",
    "    \"\"\"\n",
    "    # Put the model into the evaluation mode. The dropout layers are disabled during\n",
    "    # the test time.\n",
    "    model.eval()\n",
    "\n",
    "    all_logits = []\n",
    "\n",
    "    # For each batch in our test set...\n",
    "    for batch in test_dataloader:\n",
    "        # Load batch to GPU\n",
    "        b_input_ids, b_attn_mask = tuple(t.to(device) for t in batch)[:2]\n",
    "\n",
    "        # Compute logits\n",
    "        with torch.no_grad():\n",
    "            logits = model(b_input_ids, b_attn_mask)\n",
    "        all_logits.append(logits)\n",
    "    \n",
    "    # Concatenate logits from each batch\n",
    "    all_logits = torch.cat(all_logits, dim=0)\n",
    "\n",
    "    # Apply softmax to calculate probabilities\n",
    "    probs = F.softmax(all_logits, dim=1).cpu().numpy()\n",
    "\n",
    "    return probs"
   ]
  },
  {
   "cell_type": "code",
   "execution_count": 21,
   "metadata": {},
   "outputs": [],
   "source": [
    "def sentiment():\n",
    "    real_data = []\n",
    "    no = []\n",
    "    with conn.cursor() as cursor:\n",
    "        sql = 'SELECT No, comment FROM comments WHERE sentiment = 2'\n",
    "        cursor.execute(sql)\n",
    "        result = cursor.fetchall()\n",
    "\n",
    "        for row in result:\n",
    "            no.append(row[0])\n",
    "            real_data.append(row[1])\n",
    "\n",
    "    #print(real_data)\n",
    "\n",
    "\n",
    "    print('Tokenizing data...')\n",
    "    inputs, masks = content_preprocessing(real_data)\n",
    "\n",
    "    # Create the DataLoader for our test set\n",
    "    dataset = TensorDataset(inputs, masks)\n",
    "    sampler = SequentialSampler(dataset)\n",
    "    dataloader = DataLoader(dataset, sampler=sampler, batch_size=32)\n",
    "\n",
    "    model = torch.load('../Bert/SentimentAnalyzer.pt', map_location='cpu')\n",
    "\n",
    "    probs = bert_predict(model, dataloader)\n",
    "\n",
    "    # Get predictions from the probabilities\n",
    "    threshold = 0.9\n",
    "    preds = np.where(probs[:, 1] > threshold, 1, 0)\n",
    "\n",
    "    # Number of tweets predicted non-negative\n",
    "    print(\"Number of tweets predicted non-negative: \", preds.sum())\n",
    "\n",
    "    pred_df = pd.DataFrame(real_data, preds)\n",
    "    pred_df[preds == 0]\n",
    "\n",
    "    print(preds.sum())\n",
    "    persent = (preds.sum() / len(preds)) * 100\n",
    "\n",
    "    print(int(persent))\n",
    "\n",
    "    print(preds)\n",
    "    for i in range(0, len(preds)):\n",
    "        with conn.cursor() as cursor:\n",
    "            sql = 'UPDATE comments SET sentiment = %s WHERE No = %s'\n",
    "            cursor.execute(sql, (str(preds[i]), str(no[i])))\n",
    "        conn.commit()\n"
   ]
  },
  {
   "cell_type": "code",
   "execution_count": 22,
   "metadata": {},
   "outputs": [
    {
     "name": "stdout",
     "output_type": "stream",
     "text": [
      "Tokenizing data...\n",
      "Number of tweets predicted non-negative:  0\n",
      "0\n",
      "0\n",
      "[0 0 0 0 0]\n"
     ]
    }
   ],
   "source": [
    "sentiment()"
   ]
  },
  {
   "cell_type": "markdown",
   "metadata": {},
   "source": [
    "------------"
   ]
  }
 ],
 "metadata": {
  "interpreter": {
   "hash": "e48d23369a553edc96f1373b6255b5687d82d68cd08867622b2500e338930542"
  },
  "kernelspec": {
   "display_name": "Python 3.7.4 64-bit ('base': conda)",
   "name": "python3"
  },
  "language_info": {
   "codemirror_mode": {
    "name": "ipython",
    "version": 3
   },
   "file_extension": ".py",
   "mimetype": "text/x-python",
   "name": "python",
   "nbconvert_exporter": "python",
   "pygments_lexer": "ipython3",
   "version": "3.7.4"
  },
  "orig_nbformat": 4
 },
 "nbformat": 4,
 "nbformat_minor": 2
}
